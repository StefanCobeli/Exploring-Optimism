{
 "cells": [
  {
   "cell_type": "markdown",
   "metadata": {},
   "source": [
    "# OPT Data Split: Train/Test/Dev"
   ]
  },
  {
   "cell_type": "code",
   "execution_count": 23,
   "metadata": {
    "scrolled": true
   },
   "outputs": [
    {
     "name": "stdout",
     "output_type": "stream",
     "text": [
      "Selected 416 test samples, needed 384.70000000000005.\n",
      "\n",
      "Train samples: 3015;\n",
      "Validation samples: 416;\n",
      "Test samples: 416.\n",
      "\n",
      "Total num tweets assertion: 3847  == 3847.\n"
     ]
    }
   ],
   "source": [
    "import numpy  as np\n",
    "import pandas as pd\n",
    "from sklearn.model_selection import train_test_split\n",
    "\n",
    "np.random.seed(16)\n",
    "\n",
    "opt_df = pd.read_csv(\"../../data/optimism-twitter-data/tweets_annotation.csv\")\n",
    "opt_df[\"Original ID\"] = opt_df.index\n",
    "opt_df = opt_df.sample(frac=1)\n",
    "opt_df.head()\n",
    "\n",
    "TRAIN_SIZE = .8\n",
    "TEST_SIZE  = .1\n",
    "VAL_SIZE   = .1\n",
    "\n",
    "BATCH_SIZE = 32\n",
    "\n",
    "\n",
    "SETTING_1M1 = True\n",
    "# SETTING_1M1 = False\n",
    "\n",
    "setting_name = \"set1M1\" if SETTING_1M1 else \"set0\"\n",
    "\n",
    "if SETTING_1M1:\n",
    "#     opt_df = opt_df[np.where(opt_df<=-1)]\n",
    "    opt_df = opt_df[np.logical_or(opt_df[\"AverageAnnotation\"]<=-1, opt_df[\"AverageAnnotation\"]>=1)]\n",
    "    \n",
    "\n",
    "num_tweets = opt_df.shape[0]\n",
    "num_test_samples = int(num_tweets * TEST_SIZE  / BATCH_SIZE + 1) * BATCH_SIZE\n",
    "print(f\"Selected {num_test_samples} test samples, needed {num_tweets*TEST_SIZE}.\")\n",
    "\n",
    "# opt\n",
    "opt_train_df = opt_df[:num_tweets-2*num_test_samples]\n",
    "opt_dev_df   = opt_df[num_tweets-2*num_test_samples:num_tweets-num_test_samples]\n",
    "opt_test_df   = opt_df[num_tweets-num_test_samples:]\n",
    "\n",
    "print(f\"\\nTrain samples: {opt_train_df.shape[0]};\")\n",
    "print(f\"Validation samples: {opt_dev_df.shape[0]};\")\n",
    "print(f\"Test samples: {opt_test_df.shape[0]}.\")\n",
    "\n",
    "\n",
    "print(f\"\\nTotal num tweets assertion: {opt_train_df.shape[0] + opt_dev_df.shape[0] + opt_test_df.shape[0]}  == {num_tweets}.\")\n",
    "\n",
    "opt_train_df.to_csv(f\"../../data/optimism-twitter-data/processed/optimism_{setting_name}_train.csv\")\n",
    "opt_test_df.to_csv(f\"../../data/optimism-twitter-data/processed/optimism_{setting_name}_test.csv\")\n",
    "opt_dev_df.to_csv(f\"../../data/optimism-twitter-data/processed/optimism_{setting_name}_validation.csv\")"
   ]
  },
  {
   "cell_type": "code",
   "execution_count": 16,
   "metadata": {},
   "outputs": [
    {
     "data": {
      "text/html": [
       "<div>\n",
       "<style scoped>\n",
       "    .dataframe tbody tr th:only-of-type {\n",
       "        vertical-align: middle;\n",
       "    }\n",
       "\n",
       "    .dataframe tbody tr th {\n",
       "        vertical-align: top;\n",
       "    }\n",
       "\n",
       "    .dataframe thead th {\n",
       "        text-align: right;\n",
       "    }\n",
       "</style>\n",
       "<table border=\"1\" class=\"dataframe\">\n",
       "  <thead>\n",
       "    <tr style=\"text-align: right;\">\n",
       "      <th></th>\n",
       "      <th>Tweet</th>\n",
       "      <th>Username</th>\n",
       "      <th>AverageAnnotation</th>\n",
       "      <th>Original ID</th>\n",
       "    </tr>\n",
       "  </thead>\n",
       "  <tbody>\n",
       "    <tr>\n",
       "      <th>220</th>\n",
       "      <td>@runge_kelly rest is good!! if you like tea an...</td>\n",
       "      <td>TheAnglophiler</td>\n",
       "      <td>1.25</td>\n",
       "      <td>220</td>\n",
       "    </tr>\n",
       "    <tr>\n",
       "      <th>321</th>\n",
       "      <td>i want city to win. chelsea going up too far w...</td>\n",
       "      <td>Ajinkyaworld</td>\n",
       "      <td>1.50</td>\n",
       "      <td>321</td>\n",
       "    </tr>\n",
       "    <tr>\n",
       "      <th>2127</th>\n",
       "      <td>you're annoying the piss out of me</td>\n",
       "      <td>TehhKota</td>\n",
       "      <td>-1.80</td>\n",
       "      <td>2127</td>\n",
       "    </tr>\n",
       "    <tr>\n",
       "      <th>5894</th>\n",
       "      <td>xxx . love neil</td>\n",
       "      <td>adorb_zayn</td>\n",
       "      <td>1.20</td>\n",
       "      <td>5894</td>\n",
       "    </tr>\n",
       "    <tr>\n",
       "      <th>6844</th>\n",
       "      <td>and so begins the work to bring about #change ...</td>\n",
       "      <td>Brit_Mathews</td>\n",
       "      <td>1.50</td>\n",
       "      <td>6844</td>\n",
       "    </tr>\n",
       "    <tr>\n",
       "      <th>...</th>\n",
       "      <td>...</td>\n",
       "      <td>...</td>\n",
       "      <td>...</td>\n",
       "      <td>...</td>\n",
       "    </tr>\n",
       "    <tr>\n",
       "      <th>381</th>\n",
       "      <td>eclectic bedroom romantic french bedrooms   na...</td>\n",
       "      <td>VelmaC1232</td>\n",
       "      <td>1.20</td>\n",
       "      <td>381</td>\n",
       "    </tr>\n",
       "    <tr>\n",
       "      <th>4548</th>\n",
       "      <td>@chrisdelatorre saw him tonight in #yyc... suc...</td>\n",
       "      <td>tukatweet</td>\n",
       "      <td>1.40</td>\n",
       "      <td>4548</td>\n",
       "    </tr>\n",
       "    <tr>\n",
       "      <th>635</th>\n",
       "      <td>when you think you're not happy with your life...</td>\n",
       "      <td>CoupleQuuotes</td>\n",
       "      <td>2.60</td>\n",
       "      <td>635</td>\n",
       "    </tr>\n",
       "    <tr>\n",
       "      <th>2169</th>\n",
       "      <td>life's just a big pile of horse crap</td>\n",
       "      <td>caitlinnk_</td>\n",
       "      <td>-2.00</td>\n",
       "      <td>2169</td>\n",
       "    </tr>\n",
       "    <tr>\n",
       "      <th>6825</th>\n",
       "      <td>those bright blue eyes send ecstasy through my...</td>\n",
       "      <td>PureSavageDante</td>\n",
       "      <td>1.75</td>\n",
       "      <td>6825</td>\n",
       "    </tr>\n",
       "  </tbody>\n",
       "</table>\n",
       "<p>3847 rows × 4 columns</p>\n",
       "</div>"
      ],
      "text/plain": [
       "                                                  Tweet         Username  \\\n",
       "220   @runge_kelly rest is good!! if you like tea an...   TheAnglophiler   \n",
       "321   i want city to win. chelsea going up too far w...     Ajinkyaworld   \n",
       "2127                 you're annoying the piss out of me         TehhKota   \n",
       "5894                                    xxx . love neil       adorb_zayn   \n",
       "6844  and so begins the work to bring about #change ...     Brit_Mathews   \n",
       "...                                                 ...              ...   \n",
       "381   eclectic bedroom romantic french bedrooms   na...       VelmaC1232   \n",
       "4548  @chrisdelatorre saw him tonight in #yyc... suc...        tukatweet   \n",
       "635   when you think you're not happy with your life...    CoupleQuuotes   \n",
       "2169               life's just a big pile of horse crap       caitlinnk_   \n",
       "6825  those bright blue eyes send ecstasy through my...  PureSavageDante   \n",
       "\n",
       "      AverageAnnotation  Original ID  \n",
       "220                1.25          220  \n",
       "321                1.50          321  \n",
       "2127              -1.80         2127  \n",
       "5894               1.20         5894  \n",
       "6844               1.50         6844  \n",
       "...                 ...          ...  \n",
       "381                1.20          381  \n",
       "4548               1.40         4548  \n",
       "635                2.60          635  \n",
       "2169              -2.00         2169  \n",
       "6825               1.75         6825  \n",
       "\n",
       "[3847 rows x 4 columns]"
      ]
     },
     "execution_count": 16,
     "metadata": {},
     "output_type": "execute_result"
    }
   ],
   "source": [
    "opt_df[np.logical_or(opt_df[\"AverageAnnotation\"]<=-1, opt_df[\"AverageAnnotation\"]>=1)]"
   ]
  },
  {
   "cell_type": "code",
   "execution_count": 13,
   "metadata": {},
   "outputs": [
    {
     "ename": "ValueError",
     "evalue": "The truth value of a Series is ambiguous. Use a.empty, a.bool(), a.item(), a.any() or a.all().",
     "output_type": "error",
     "traceback": [
      "\u001b[0;31m-----------------------------------------------------------------------\u001b[0m",
      "\u001b[0;31mValueError\u001b[0m                            Traceback (most recent call last)",
      "\u001b[0;32m<ipython-input-13-dc0286ac2aec>\u001b[0m in \u001b[0;36m<module>\u001b[0;34m()\u001b[0m\n\u001b[0;32m----> 1\u001b[0;31m \u001b[0;34m(\u001b[0m\u001b[0mnp\u001b[0m\u001b[0;34m.\u001b[0m\u001b[0mwhere\u001b[0m\u001b[0;34m(\u001b[0m\u001b[0mopt_df\u001b[0m\u001b[0;34m[\u001b[0m\u001b[0;34m\"AverageAnnotation\"\u001b[0m\u001b[0;34m]\u001b[0m\u001b[0;34m<=\u001b[0m\u001b[0;34m-\u001b[0m\u001b[0;36m1\u001b[0m \u001b[0;32mor\u001b[0m \u001b[0mopt_df\u001b[0m\u001b[0;34m[\u001b[0m\u001b[0;34m\"AverageAnnotation\"\u001b[0m\u001b[0;34m]\u001b[0m\u001b[0;34m>=\u001b[0m\u001b[0;36m1\u001b[0m\u001b[0;34m)\u001b[0m\u001b[0;34m.\u001b[0m\u001b[0many\u001b[0m\u001b[0;34m(\u001b[0m\u001b[0;34m)\u001b[0m\u001b[0;34m)\u001b[0m\u001b[0;34m[\u001b[0m\u001b[0;36m0\u001b[0m\u001b[0;34m]\u001b[0m\u001b[0;34m.\u001b[0m\u001b[0mshape\u001b[0m\u001b[0;34m\u001b[0m\u001b[0;34m\u001b[0m\u001b[0m\n\u001b[0m",
      "\u001b[0;32m~/anaconda3/envs/nlp/lib/python3.6/site-packages/pandas/core/generic.py\u001b[0m in \u001b[0;36m__nonzero__\u001b[0;34m(self)\u001b[0m\n\u001b[1;32m   1477\u001b[0m     \u001b[0;32mdef\u001b[0m \u001b[0m__nonzero__\u001b[0m\u001b[0;34m(\u001b[0m\u001b[0mself\u001b[0m\u001b[0;34m)\u001b[0m\u001b[0;34m:\u001b[0m\u001b[0;34m\u001b[0m\u001b[0;34m\u001b[0m\u001b[0m\n\u001b[1;32m   1478\u001b[0m         raise ValueError(\n\u001b[0;32m-> 1479\u001b[0;31m             \u001b[0;34mf\"The truth value of a {type(self).__name__} is ambiguous. \"\u001b[0m\u001b[0;34m\u001b[0m\u001b[0;34m\u001b[0m\u001b[0m\n\u001b[0m\u001b[1;32m   1480\u001b[0m             \u001b[0;34m\"Use a.empty, a.bool(), a.item(), a.any() or a.all().\"\u001b[0m\u001b[0;34m\u001b[0m\u001b[0;34m\u001b[0m\u001b[0m\n\u001b[1;32m   1481\u001b[0m         )\n",
      "\u001b[0;31mValueError\u001b[0m: The truth value of a Series is ambiguous. Use a.empty, a.bool(), a.item(), a.any() or a.all()."
     ]
    }
   ],
   "source": [
    "(np.where(np.oopt_df[\"AverageAnnotation\"]<=-1 or opt_df[\"AverageAnnotation\"]>=1).any())[0].shape"
   ]
  },
  {
   "cell_type": "code",
   "execution_count": 8,
   "metadata": {},
   "outputs": [
    {
     "data": {
      "text/plain": [
       "(1340,)"
      ]
     },
     "execution_count": 8,
     "metadata": {},
     "output_type": "execute_result"
    }
   ],
   "source": [
    "np.where(opt_df[\"AverageAnnotation\"]<=-1)[0].shape"
   ]
  },
  {
   "cell_type": "code",
   "execution_count": 9,
   "metadata": {},
   "outputs": [
    {
     "data": {
      "text/plain": [
       "(2507,)"
      ]
     },
     "execution_count": 9,
     "metadata": {},
     "output_type": "execute_result"
    }
   ],
   "source": [
    "np.where(opt_df[\"AverageAnnotation\"]>=1)[0].shape"
   ]
  },
  {
   "cell_type": "code",
   "execution_count": 17,
   "metadata": {},
   "outputs": [
    {
     "data": {
      "text/html": [
       "<div>\n",
       "<style scoped>\n",
       "    .dataframe tbody tr th:only-of-type {\n",
       "        vertical-align: middle;\n",
       "    }\n",
       "\n",
       "    .dataframe tbody tr th {\n",
       "        vertical-align: top;\n",
       "    }\n",
       "\n",
       "    .dataframe thead th {\n",
       "        text-align: right;\n",
       "    }\n",
       "</style>\n",
       "<table border=\"1\" class=\"dataframe\">\n",
       "  <thead>\n",
       "    <tr style=\"text-align: right;\">\n",
       "      <th></th>\n",
       "      <th>Tweet</th>\n",
       "      <th>Username</th>\n",
       "      <th>AverageAnnotation</th>\n",
       "      <th>Original ID</th>\n",
       "    </tr>\n",
       "  </thead>\n",
       "  <tbody>\n",
       "    <tr>\n",
       "      <th>220</th>\n",
       "      <td>@runge_kelly rest is good!! if you like tea an...</td>\n",
       "      <td>TheAnglophiler</td>\n",
       "      <td>1.25</td>\n",
       "      <td>220</td>\n",
       "    </tr>\n",
       "    <tr>\n",
       "      <th>916</th>\n",
       "      <td>dr. budiani-saberi is a medical anthropologist...</td>\n",
       "      <td>JessiKersi</td>\n",
       "      <td>0.00</td>\n",
       "      <td>916</td>\n",
       "    </tr>\n",
       "    <tr>\n",
       "      <th>321</th>\n",
       "      <td>i want city to win. chelsea going up too far w...</td>\n",
       "      <td>Ajinkyaworld</td>\n",
       "      <td>1.50</td>\n",
       "      <td>321</td>\n",
       "    </tr>\n",
       "    <tr>\n",
       "      <th>2127</th>\n",
       "      <td>you're annoying the piss out of me</td>\n",
       "      <td>TehhKota</td>\n",
       "      <td>-1.80</td>\n",
       "      <td>2127</td>\n",
       "    </tr>\n",
       "    <tr>\n",
       "      <th>5643</th>\n",
       "      <td>@arapahoe_basin looking good for tomorrow's sk...</td>\n",
       "      <td>tomfricke</td>\n",
       "      <td>0.60</td>\n",
       "      <td>5643</td>\n",
       "    </tr>\n",
       "  </tbody>\n",
       "</table>\n",
       "</div>"
      ],
      "text/plain": [
       "                                                  Tweet        Username  \\\n",
       "220   @runge_kelly rest is good!! if you like tea an...  TheAnglophiler   \n",
       "916   dr. budiani-saberi is a medical anthropologist...      JessiKersi   \n",
       "321   i want city to win. chelsea going up too far w...    Ajinkyaworld   \n",
       "2127                 you're annoying the piss out of me        TehhKota   \n",
       "5643  @arapahoe_basin looking good for tomorrow's sk...       tomfricke   \n",
       "\n",
       "      AverageAnnotation  Original ID  \n",
       "220                1.25          220  \n",
       "916                0.00          916  \n",
       "321                1.50          321  \n",
       "2127              -1.80         2127  \n",
       "5643               0.60         5643  "
      ]
     },
     "execution_count": 17,
     "metadata": {},
     "output_type": "execute_result"
    }
   ],
   "source": [
    "opt_train_df.head()"
   ]
  },
  {
   "cell_type": "code",
   "execution_count": 18,
   "metadata": {},
   "outputs": [
    {
     "data": {
      "text/html": [
       "<div>\n",
       "<style scoped>\n",
       "    .dataframe tbody tr th:only-of-type {\n",
       "        vertical-align: middle;\n",
       "    }\n",
       "\n",
       "    .dataframe tbody tr th {\n",
       "        vertical-align: top;\n",
       "    }\n",
       "\n",
       "    .dataframe thead th {\n",
       "        text-align: right;\n",
       "    }\n",
       "</style>\n",
       "<table border=\"1\" class=\"dataframe\">\n",
       "  <thead>\n",
       "    <tr style=\"text-align: right;\">\n",
       "      <th></th>\n",
       "      <th>Tweet</th>\n",
       "      <th>Username</th>\n",
       "      <th>AverageAnnotation</th>\n",
       "      <th>Original ID</th>\n",
       "    </tr>\n",
       "  </thead>\n",
       "  <tbody>\n",
       "    <tr>\n",
       "      <th>370</th>\n",
       "      <td>could use any good vibes/energy for a family m...</td>\n",
       "      <td>bubafettt</td>\n",
       "      <td>1.4</td>\n",
       "      <td>370</td>\n",
       "    </tr>\n",
       "    <tr>\n",
       "      <th>2067</th>\n",
       "      <td>@hyper_chondriac @showblzsyndrome @manubiondi ...</td>\n",
       "      <td>FooledBySecrecy</td>\n",
       "      <td>1.0</td>\n",
       "      <td>2067</td>\n",
       "    </tr>\n",
       "    <tr>\n",
       "      <th>5106</th>\n",
       "      <td>@zaynmalik remember when we all loved you and ...</td>\n",
       "      <td>PrincessXMalik</td>\n",
       "      <td>-1.2</td>\n",
       "      <td>5106</td>\n",
       "    </tr>\n",
       "    <tr>\n",
       "      <th>1288</th>\n",
       "      <td>@theyoungerbolt im doing pretty good. how abou...</td>\n",
       "      <td>sith_hannah_ace</td>\n",
       "      <td>1.6</td>\n",
       "      <td>1288</td>\n",
       "    </tr>\n",
       "    <tr>\n",
       "      <th>1046</th>\n",
       "      <td>#days need to get rid of all these horrible ch...</td>\n",
       "      <td>SharonCaseFan</td>\n",
       "      <td>-1.0</td>\n",
       "      <td>1046</td>\n",
       "    </tr>\n",
       "  </tbody>\n",
       "</table>\n",
       "</div>"
      ],
      "text/plain": [
       "                                                  Tweet         Username  \\\n",
       "370   could use any good vibes/energy for a family m...        bubafettt   \n",
       "2067  @hyper_chondriac @showblzsyndrome @manubiondi ...  FooledBySecrecy   \n",
       "5106  @zaynmalik remember when we all loved you and ...   PrincessXMalik   \n",
       "1288  @theyoungerbolt im doing pretty good. how abou...  sith_hannah_ace   \n",
       "1046  #days need to get rid of all these horrible ch...    SharonCaseFan   \n",
       "\n",
       "      AverageAnnotation  Original ID  \n",
       "370                 1.4          370  \n",
       "2067                1.0         2067  \n",
       "5106               -1.2         5106  \n",
       "1288                1.6         1288  \n",
       "1046               -1.0         1046  "
      ]
     },
     "execution_count": 18,
     "metadata": {},
     "output_type": "execute_result"
    }
   ],
   "source": [
    "opt_dev_df.head()"
   ]
  },
  {
   "cell_type": "code",
   "execution_count": 19,
   "metadata": {},
   "outputs": [
    {
     "data": {
      "text/html": [
       "<div>\n",
       "<style scoped>\n",
       "    .dataframe tbody tr th:only-of-type {\n",
       "        vertical-align: middle;\n",
       "    }\n",
       "\n",
       "    .dataframe tbody tr th {\n",
       "        vertical-align: top;\n",
       "    }\n",
       "\n",
       "    .dataframe thead th {\n",
       "        text-align: right;\n",
       "    }\n",
       "</style>\n",
       "<table border=\"1\" class=\"dataframe\">\n",
       "  <thead>\n",
       "    <tr style=\"text-align: right;\">\n",
       "      <th></th>\n",
       "      <th>Tweet</th>\n",
       "      <th>Username</th>\n",
       "      <th>AverageAnnotation</th>\n",
       "      <th>Original ID</th>\n",
       "    </tr>\n",
       "  </thead>\n",
       "  <tbody>\n",
       "    <tr>\n",
       "      <th>6296</th>\n",
       "      <td>is anybody else about to cry bc of zayn again ...</td>\n",
       "      <td>alllovehes</td>\n",
       "      <td>-1.333333</td>\n",
       "      <td>6296</td>\n",
       "    </tr>\n",
       "    <tr>\n",
       "      <th>4478</th>\n",
       "      <td>please welcome [author]. mother of three and a...</td>\n",
       "      <td>ImAmandaNelson</td>\n",
       "      <td>0.750000</td>\n",
       "      <td>4478</td>\n",
       "    </tr>\n",
       "    <tr>\n",
       "      <th>6434</th>\n",
       "      <td>@taylorswift13 i love you thank you for showin...</td>\n",
       "      <td>HereForTaylor8</td>\n",
       "      <td>2.000000</td>\n",
       "      <td>6434</td>\n",
       "    </tr>\n",
       "    <tr>\n",
       "      <th>1765</th>\n",
       "      <td>okay so 4 girl friends are all i need.</td>\n",
       "      <td>YourPainAintLuv</td>\n",
       "      <td>1.000000</td>\n",
       "      <td>1765</td>\n",
       "    </tr>\n",
       "    <tr>\n",
       "      <th>1141</th>\n",
       "      <td>i feel like tomorrow is the first day of schoo...</td>\n",
       "      <td>taylor_annem</td>\n",
       "      <td>0.000000</td>\n",
       "      <td>1141</td>\n",
       "    </tr>\n",
       "  </tbody>\n",
       "</table>\n",
       "</div>"
      ],
      "text/plain": [
       "                                                  Tweet         Username  \\\n",
       "6296  is anybody else about to cry bc of zayn again ...       alllovehes   \n",
       "4478  please welcome [author]. mother of three and a...   ImAmandaNelson   \n",
       "6434  @taylorswift13 i love you thank you for showin...   HereForTaylor8   \n",
       "1765             okay so 4 girl friends are all i need.  YourPainAintLuv   \n",
       "1141  i feel like tomorrow is the first day of schoo...     taylor_annem   \n",
       "\n",
       "      AverageAnnotation  Original ID  \n",
       "6296          -1.333333         6296  \n",
       "4478           0.750000         4478  \n",
       "6434           2.000000         6434  \n",
       "1765           1.000000         1765  \n",
       "1141           0.000000         1141  "
      ]
     },
     "execution_count": 19,
     "metadata": {},
     "output_type": "execute_result"
    }
   ],
   "source": [
    "opt_test_df.head()"
   ]
  },
  {
   "cell_type": "code",
   "execution_count": null,
   "metadata": {},
   "outputs": [],
   "source": [
    "train_test_split()"
   ]
  }
 ],
 "metadata": {
  "kernelspec": {
   "display_name": "Python [conda env:nlp]",
   "language": "python",
   "name": "conda-env-nlp-py"
  },
  "language_info": {
   "codemirror_mode": {
    "name": "ipython",
    "version": 3
   },
   "file_extension": ".py",
   "mimetype": "text/x-python",
   "name": "python",
   "nbconvert_exporter": "python",
   "pygments_lexer": "ipython3",
   "version": "3.6.9"
  }
 },
 "nbformat": 4,
 "nbformat_minor": 2
}
