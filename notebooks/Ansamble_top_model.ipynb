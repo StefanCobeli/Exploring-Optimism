{
 "cells": [
  {
   "cell_type": "markdown",
   "metadata": {},
   "source": [
    "# Ansamble prediction from logits model "
   ]
  },
  {
   "cell_type": "markdown",
   "metadata": {},
   "source": [
    "# Read the data"
   ]
  },
  {
   "cell_type": "code",
   "execution_count": 1,
   "metadata": {},
   "outputs": [],
   "source": [
    "import numpy  as np\n",
    "import pandas as pd"
   ]
  },
  {
   "cell_type": "code",
   "execution_count": 2,
   "metadata": {},
   "outputs": [],
   "source": [
    "opt_df_train1 = pd.read_csv(\"../../data/optimism-twitter-data/processed/optimism_Ansamble_M1_Bert_Large_M2_XLNet_Base_train.csv\")\n",
    "opt_df_test1  = pd.read_csv(\"../../data/optimism-twitter-data/processed/optimism_Ansamble_M1_Bert_Large_M2_XLNet_Base_test.csv\")\n",
    "opt_df_dev1   = pd.read_csv(\"../../data/optimism-twitter-data/processed/optimism_Ansamble_M1_Bert_Large_M2_XLNet_Base_validation.csv\")\n",
    "\n",
    "opt_df_train2 = pd.read_csv(\"../../data/optimism-twitter-data/processed/optimism_Ansamble_M1_Bert_Base_M2_Roberta_Base_train.csv\")\n",
    "opt_df_test2  = pd.read_csv(\"../../data/optimism-twitter-data/processed/optimism_Ansamble_M1_Bert_Base_M2_Roberta_Base_test.csv\")\n",
    "opt_df_dev2   = pd.read_csv(\"../../data/optimism-twitter-data/processed/optimism_Ansamble_M1_Bert_Base_M2_Roberta_Base_validation.csv\")"
   ]
  },
  {
   "cell_type": "code",
   "execution_count": 3,
   "metadata": {},
   "outputs": [
    {
     "data": {
      "text/html": [
       "<div>\n",
       "<style scoped>\n",
       "    .dataframe tbody tr th:only-of-type {\n",
       "        vertical-align: middle;\n",
       "    }\n",
       "\n",
       "    .dataframe tbody tr th {\n",
       "        vertical-align: top;\n",
       "    }\n",
       "\n",
       "    .dataframe thead th {\n",
       "        text-align: right;\n",
       "    }\n",
       "</style>\n",
       "<table border=\"1\" class=\"dataframe\">\n",
       "  <thead>\n",
       "    <tr style=\"text-align: right;\">\n",
       "      <th></th>\n",
       "      <th>Unnamed: 0</th>\n",
       "      <th>Tweet</th>\n",
       "      <th>Username</th>\n",
       "      <th>AverageAnnotation</th>\n",
       "      <th>Original ID</th>\n",
       "      <th>M1:Bert_Large_logit0</th>\n",
       "      <th>M1:Bert_Large_logit1</th>\n",
       "      <th>M2:XLNet_Base_logit0</th>\n",
       "      <th>M2:XLNet_Base_logit1</th>\n",
       "    </tr>\n",
       "  </thead>\n",
       "  <tbody>\n",
       "    <tr>\n",
       "      <th>0</th>\n",
       "      <td>0</td>\n",
       "      <td>@runge_kelly rest is good!! if you like tea an...</td>\n",
       "      <td>TheAnglophiler</td>\n",
       "      <td>1.25</td>\n",
       "      <td>220</td>\n",
       "      <td>-5.205334</td>\n",
       "      <td>4.681307</td>\n",
       "      <td>-3.560899</td>\n",
       "      <td>3.339703</td>\n",
       "    </tr>\n",
       "    <tr>\n",
       "      <th>1</th>\n",
       "      <td>1</td>\n",
       "      <td>dr. budiani-saberi is a medical anthropologist...</td>\n",
       "      <td>JessiKersi</td>\n",
       "      <td>0.00</td>\n",
       "      <td>916</td>\n",
       "      <td>2.511252</td>\n",
       "      <td>-2.607783</td>\n",
       "      <td>2.411943</td>\n",
       "      <td>-2.060660</td>\n",
       "    </tr>\n",
       "    <tr>\n",
       "      <th>2</th>\n",
       "      <td>2</td>\n",
       "      <td>i want city to win. chelsea going up too far w...</td>\n",
       "      <td>Ajinkyaworld</td>\n",
       "      <td>1.50</td>\n",
       "      <td>321</td>\n",
       "      <td>-5.192333</td>\n",
       "      <td>4.742418</td>\n",
       "      <td>-2.866381</td>\n",
       "      <td>3.463603</td>\n",
       "    </tr>\n",
       "    <tr>\n",
       "      <th>3</th>\n",
       "      <td>3</td>\n",
       "      <td>you're annoying the piss out of me</td>\n",
       "      <td>TehhKota</td>\n",
       "      <td>-1.80</td>\n",
       "      <td>2127</td>\n",
       "      <td>4.497906</td>\n",
       "      <td>-4.169426</td>\n",
       "      <td>4.160317</td>\n",
       "      <td>-3.558687</td>\n",
       "    </tr>\n",
       "    <tr>\n",
       "      <th>4</th>\n",
       "      <td>4</td>\n",
       "      <td>@arapahoe_basin looking good for tomorrow's sk...</td>\n",
       "      <td>tomfricke</td>\n",
       "      <td>0.60</td>\n",
       "      <td>5643</td>\n",
       "      <td>-5.039854</td>\n",
       "      <td>4.488212</td>\n",
       "      <td>-3.775995</td>\n",
       "      <td>3.775713</td>\n",
       "    </tr>\n",
       "  </tbody>\n",
       "</table>\n",
       "</div>"
      ],
      "text/plain": [
       "   Unnamed: 0                                              Tweet  \\\n",
       "0           0  @runge_kelly rest is good!! if you like tea an...   \n",
       "1           1  dr. budiani-saberi is a medical anthropologist...   \n",
       "2           2  i want city to win. chelsea going up too far w...   \n",
       "3           3                 you're annoying the piss out of me   \n",
       "4           4  @arapahoe_basin looking good for tomorrow's sk...   \n",
       "\n",
       "         Username  AverageAnnotation  Original ID  M1:Bert_Large_logit0  \\\n",
       "0  TheAnglophiler               1.25          220             -5.205334   \n",
       "1      JessiKersi               0.00          916              2.511252   \n",
       "2    Ajinkyaworld               1.50          321             -5.192333   \n",
       "3        TehhKota              -1.80         2127              4.497906   \n",
       "4       tomfricke               0.60         5643             -5.039854   \n",
       "\n",
       "   M1:Bert_Large_logit1  M2:XLNet_Base_logit0  M2:XLNet_Base_logit1  \n",
       "0              4.681307             -3.560899              3.339703  \n",
       "1             -2.607783              2.411943             -2.060660  \n",
       "2              4.742418             -2.866381              3.463603  \n",
       "3             -4.169426              4.160317             -3.558687  \n",
       "4              4.488212             -3.775995              3.775713  "
      ]
     },
     "execution_count": 3,
     "metadata": {},
     "output_type": "execute_result"
    }
   ],
   "source": [
    "# #X_train\n",
    "# np.vstack([opt_df_train[\"M1:Bert_Large_logit0\"]\\\n",
    "#           , opt_df_train[\"M1:Bert_Large_logit1\"]\\\n",
    "#           , opt_df_train[\"M2:XLNet_Base_logit0\"]\\\n",
    "#           , opt_df_train[\"M2:XLNet_Base_logit1\"]])#.shape\n",
    "# #y_train\n",
    "# np.where(opt_df_train[\"AverageAnnotation\"]<=0, 0, 1)#.shape\n",
    "\n",
    "opt_df_train1.head()"
   ]
  },
  {
   "cell_type": "code",
   "execution_count": 7,
   "metadata": {},
   "outputs": [
    {
     "name": "stdout",
     "output_type": "stream",
     "text": [
      "XGBoost: \n",
      "Train:      1.0000, \n",
      "Validation: 0.8177, \n",
      "Test:       0.8268;\n",
      "\n",
      "SVM: \n",
      "Train:      0.9951, \n",
      "Validation: 0.8346, \n",
      "Test:       0.8190;   \n",
      "\n",
      "MLP: \n",
      "Train:      0.9992, \n",
      "Validation: 0.8255, \n",
      "Test:       0.8242;   \n",
      "\n",
      "KNN: \n",
      "Train:      0.9988, \n",
      "Validation: 0.8281, \n",
      "Test:       0.8320.   \n"
     ]
    }
   ],
   "source": [
    "#XGBoost\n",
    "#https://scikit-learn.org/stable/modules/ensemble.html#adaboost\n",
    "\n",
    "from sklearn.experimental import enable_hist_gradient_boosting\n",
    "from sklearn.ensemble import HistGradientBoostingClassifier\n",
    "from sklearn.datasets import make_hastie_10_2\n",
    "from sklearn          import svm\n",
    "from sklearn.neighbors import KNeighborsClassifier\n",
    "from sklearn.neural_network import MLPClassifier\n",
    "\n",
    "# X, y = make_hastie_10_2(random_state=0)\n",
    "# X_train, X_test = X[:2000], X[2000:]\n",
    "# y_train, y_test = y[:2000], y[2000:]\n",
    "\n",
    "X_train = np.vstack([opt_df_train1[\"M1:Bert_Large_logit0\"]\\\n",
    "          , opt_df_train1[\"M1:Bert_Large_logit1\"]\\\n",
    "          , opt_df_train1[\"M2:XLNet_Base_logit0\"]\\\n",
    "          , opt_df_train1[\"M2:XLNet_Base_logit1\"]\\\n",
    "          , opt_df_train2[\"M1:Bert_Base_logit0\"]\\\n",
    "          , opt_df_train2[\"M1:Bert_Base_logit1\"]\\\n",
    "          , opt_df_train2[\"M2:Roberta_Base_logit0\"]\\\n",
    "          , opt_df_train2[\"M2:Roberta_Base_logit1\"]]).T\n",
    "y_train = np.where(opt_df_train1[\"AverageAnnotation\"]<=0, 0, 1)\n",
    "\n",
    "X_dev = np.vstack([opt_df_dev1[\"M1:Bert_Large_logit0\"]\\\n",
    "          , opt_df_dev1[\"M1:Bert_Large_logit1\"]\\\n",
    "          , opt_df_dev1[\"M2:XLNet_Base_logit0\"]\\\n",
    "          , opt_df_dev1[\"M2:XLNet_Base_logit1\"]\\\n",
    "          , opt_df_dev2[\"M1:Bert_Base_logit0\"]\\\n",
    "          , opt_df_dev2[\"M1:Bert_Base_logit1\"]\\\n",
    "          , opt_df_dev2[\"M2:Roberta_Base_logit0\"]\\\n",
    "          , opt_df_dev2[\"M2:Roberta_Base_logit1\"]]).T\n",
    "y_dev = np.where(opt_df_dev1[\"AverageAnnotation\"]<=0, 0, 1)\n",
    "\n",
    "X_test = np.vstack([opt_df_test1[\"M1:Bert_Large_logit0\"]\\\n",
    "          , opt_df_test1[\"M1:Bert_Large_logit1\"]\\\n",
    "          , opt_df_test1[\"M2:XLNet_Base_logit0\"]\\\n",
    "          , opt_df_test1[\"M2:XLNet_Base_logit1\"]\\\n",
    "          , opt_df_test2[\"M1:Bert_Base_logit0\"]\\\n",
    "          , opt_df_test2[\"M1:Bert_Base_logit1\"]\\\n",
    "          , opt_df_test2[\"M2:Roberta_Base_logit0\"]\\\n",
    "          , opt_df_test2[\"M2:Roberta_Base_logit1\"]]).T\n",
    "y_test = np.where(opt_df_test1[\"AverageAnnotation\"]<=0, 0, 1)\n",
    "\n",
    "clf1  = HistGradientBoostingClassifier(max_iter=100).fit(X_train, y_train)\n",
    "clf2  = svm.NuSVC(gamma='auto').fit(X_train, y_train)#.fit(X, Y)\n",
    "clf3  = MLPClassifier(hidden_layer_sizes=(32, 16, 4), random_state=1).fit(X_train, y_train)\n",
    "clf4  = KNeighborsClassifier(n_neighbors=20).fit(X_train, y_train)\n",
    "\n",
    "print(\"XGBoost: \\nTrain:      %.4f, \\nValidation: %.4f, \\nTest:       %.4f;\"\\\n",
    "      %(clf1.score(X_train, y_train).round(4)\\\n",
    "      , clf1.score(X_dev, y_dev).round(4)\\\n",
    "      , clf1.score(X_test, y_test).round(4)))\n",
    "print()\n",
    "print(\"SVM: \\nTrain:      %.4f, \\nValidation: %.4f, \\nTest:       %.4f;   \"\\\n",
    "      %(clf2.score(X_train, y_train).round(4)\\\n",
    "        , clf2.score(X_dev, y_dev).round(4)\\\n",
    "        , clf2.score(X_test, y_test).round(4)))\n",
    "print()\n",
    "print(\"MLP: \\nTrain:      %.4f, \\nValidation: %.4f, \\nTest:       %.4f;   \"\\\n",
    "      %(clf3.score(X_train, y_train).round(4)\\\n",
    "        , clf3.score(X_dev, y_dev).round(4)\\\n",
    "        , clf3.score(X_test, y_test).round(4)))\n",
    "print()\n",
    "print(\"KNN: \\nTrain:      %.4f, \\nValidation: %.4f, \\nTest:       %.4f.   \"\\\n",
    "      %(clf4.score(X_train, y_train).round(4)\\\n",
    "      , clf4.score(X_dev, y_dev).round(4)\\\n",
    "      , clf4.score(X_test, y_test).round(4)))"
   ]
  },
  {
   "cell_type": "code",
   "execution_count": 20,
   "metadata": {},
   "outputs": [
    {
     "data": {
      "text/plain": [
       "((4, 5939), (4, 768))"
      ]
     },
     "execution_count": 20,
     "metadata": {},
     "output_type": "execute_result"
    }
   ],
   "source": [
    "X_train.shape, X_test.shape"
   ]
  }
 ],
 "metadata": {
  "kernelspec": {
   "display_name": "Python [conda env:nlp-tf2]",
   "language": "python",
   "name": "conda-env-nlp-tf2-py"
  },
  "language_info": {
   "codemirror_mode": {
    "name": "ipython",
    "version": 3
   },
   "file_extension": ".py",
   "mimetype": "text/x-python",
   "name": "python",
   "nbconvert_exporter": "python",
   "pygments_lexer": "ipython3",
   "version": "3.6.9"
  }
 },
 "nbformat": 4,
 "nbformat_minor": 2
}
