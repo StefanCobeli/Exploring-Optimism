{
 "cells": [
  {
   "cell_type": "markdown",
   "metadata": {},
   "source": [
    "Source: \n",
    "\n",
    "https://medium.com/@brn.pistone/bert-fine-tuning-for-tensorflow-2-0-with-keras-api-9913fc1348f6\n",
    "\n",
    "https://gist.github.com/bp91\n",
    "\n",
    "https://pypi.org/project/bert-for-tf2/"
   ]
  },
  {
   "cell_type": "markdown",
   "metadata": {},
   "source": [
    "# Imports"
   ]
  },
  {
   "cell_type": "code",
   "execution_count": 1,
   "metadata": {},
   "outputs": [
    {
     "name": "stderr",
     "output_type": "stream",
     "text": [
      "Using TensorFlow backend.\n"
     ]
    },
    {
     "name": "stdout",
     "output_type": "stream",
     "text": [
      "WARNING:tensorflow:From ../set_project_seed.py:33: The name tf.keras.backend.set_session is deprecated. Please use tf.compat.v1.keras.backend.set_session instead.\n",
      "\n"
     ]
    }
   ],
   "source": [
    "import sys  \n",
    "from shutil           import copyfile\n",
    "sys.path.insert(0, '../')\n",
    "# sys.path.insert(0, '../config/')\n",
    "\n",
    "from CustomTokenizer  import *\n",
    "from data_preparation import *\n",
    "from Embedder         import *\n",
    "from models           import *\n",
    "from training         import *\n",
    "from set_project_seed import *"
   ]
  },
  {
   "cell_type": "code",
   "execution_count": 2,
   "metadata": {},
   "outputs": [],
   "source": [
    "import bert\n",
    "import os\n",
    "\n",
    "\n",
    "# model_dir = \".models/uncased_L-12_H-768_A-12\"\n",
    "model_name = \"uncased_L-2_H-128_A-2\"\n",
    "# model_name = \"uncased_L-4_H-128_A-2\"\n",
    "# model_name = \"uncased_L-12_H-128_A-2\"\n",
    "model_dir  = f\"../../embeddings/{model_name}\"\n",
    "# model_dir  = f\"../../embeddings/all_bert_models/{model_name}\"\n",
    "model_ckpt = os.path.join(model_dir, \"bert_model.ckpt\")\n",
    "\n",
    "opt_data_path = \"../../data/optimism-twitter-data/tweets_annotation.csv\"\n",
    "\n",
    "\n",
    "bert_params = bert.params_from_pretrained_ckpt(model_dir)\n",
    "l_bert      = bert.BertModelLayer.from_params(bert_params, name=\"bert\")"
   ]
  },
  {
   "cell_type": "markdown",
   "metadata": {},
   "source": [
    "# Prepare data"
   ]
  },
  {
   "cell_type": "code",
   "execution_count": 3,
   "metadata": {},
   "outputs": [],
   "source": [
    "import bert\n",
    "\n",
    "def createTokenizer(vocab_file):\n",
    "    '''\n",
    "        Return BERT tokenizer, based on provided vocabulary file.\n",
    "    '''\n",
    "\n",
    "    tokenizer = bert.bert_tokenization.FullTokenizer(vocab_file, do_lower_case=True)\n",
    "    return tokenizer\n",
    "\n",
    "\n",
    "vocab_file       = os.path.join(model_dir, \"vocab.txt\")\n",
    "custom_tokenizer = createTokenizer(vocab_file=vocab_file)"
   ]
  },
  {
   "cell_type": "code",
   "execution_count": 4,
   "metadata": {},
   "outputs": [
    {
     "name": "stdout",
     "output_type": "stream",
     "text": [
      "Processing text dataset:\n",
      "Found 7,475 texts.\n",
      "\n",
      "did i just hear clive anderson say peter cooke is on the 'unreliable evidence' panel? excellent @bbcradio4 1.0 ['did', 'i', 'just', 'hear', 'clive']\n",
      "The longest tweet/text has 59 BERT tokens.\n"
     ]
    }
   ],
   "source": [
    "def vectorize_BERT_data(texts, gold_labels\\\n",
    "                   , custom_tokenizer\\\n",
    "                  , MAX_SEQUENCE_LENGTH=None):\n",
    "    \n",
    "    '''\n",
    "    Given a list of texts (& one of gold labels),\n",
    "    BERT tokenize them using provided tokenizer \n",
    "    \n",
    "    output: opt_vectorized_tweets, gold_labels\n",
    "    '''\n",
    "    #To Do, cut sequencees in map:\n",
    "    \n",
    "#     opt_train_tokens = list(map(custom_tokenizer.tokenize, texts))\n",
    "    opt_train_tokens = [custom_tokenizer.tokenize(t) for t in texts]\n",
    "    \n",
    "    if not(MAX_SEQUENCE_LENGTH):\n",
    "        MAX_SEQUENCE_LENGTH = max(map(lambda x: len(x), list(opt_train_tokens))) + 2\n",
    "        print(\"The longest tweet/text has %d BERT tokens.\" \\\n",
    "          %(MAX_SEQUENCE_LENGTH))\n",
    "    #else cut the longer sequences:\n",
    "    \n",
    "    #Add BERT separators:\n",
    "#     opt_train_tokens      = list(map(lambda tok: [\"[CLS]\"] + tok + [\"[SEP]\"]\\\n",
    "#                            , opt_train_tokens))\n",
    "    opt_train_tokens      = [[\"[CLS]\"] + toks + [\"[SEP]\"] for toks in opt_train_tokens]\n",
    "    \n",
    "    #Vectorzie tokens + padding:\n",
    "    opt_vectorized_tweets = [custom_tokenizer.convert_tokens_to_ids(toks) \\\n",
    "                             for toks in opt_train_tokens]\n",
    "    opt_vectorized_tweets = [t + [0] * (MAX_SEQUENCE_LENGTH - len(t))\\\n",
    "                             for t in opt_vectorized_tweets]\n",
    "    \n",
    "    \n",
    "#     opt_vectorized_tweets = list(map(custom_tokenizer.convert_tokens_to_ids\\\n",
    "#                                , opt_train_tokens))\n",
    "#     opt_vectorized_tweets = list(map(lambda t: t + [0] * \\\n",
    "#                                 (MAX_SEQUENCE_LENGTH - len(t))\\\n",
    "#                                 , opt_vectorized_tweets))\n",
    "\n",
    "    #Transform vectors in numpy arrays:\n",
    "    opt_vectorized_tweets = np.vstack([np.array(ot) for\\\n",
    "                                     ot in opt_vectorized_tweets])\n",
    "    gold_labels = np.array(gold_labels)\n",
    "\n",
    "    return opt_vectorized_tweets, gold_labels\n",
    "\n",
    "\n",
    "opt_tweets, opt_gold_labels = read_OPT_data(data_path=opt_data_path)\n",
    "\n",
    "print(opt_tweets[0], opt_gold_labels[0], custom_tokenizer.tokenize(opt_tweets[0])[:5])\n",
    "\n",
    "opt_vectorized_tweets, opt_gold_labels = vectorize_BERT_data(\\\n",
    "                                        opt_tweets, opt_gold_labels\\\n",
    "                                        , custom_tokenizer)"
   ]
  },
  {
   "cell_type": "code",
   "execution_count": 5,
   "metadata": {},
   "outputs": [
    {
     "data": {
      "text/plain": [
       "('kahit gaano pa kalupet mag rap si smugglaz at abra. . . . . . . . . . . . . . wala paring tatalo pag nag rap na si mudra.  :)',\n",
       " 34,\n",
       " (7475, 59))"
      ]
     },
     "execution_count": 5,
     "metadata": {},
     "output_type": "execute_result"
    }
   ],
   "source": [
    "opt_tweets[1804], len(opt_tweets[1804].split(\" \")), opt_vectorized_tweets.shape"
   ]
  },
  {
   "cell_type": "markdown",
   "metadata": {},
   "source": [
    "# Create model"
   ]
  },
  {
   "cell_type": "code",
   "execution_count": 41,
   "metadata": {},
   "outputs": [],
   "source": [
    "import bert\n",
    "import os\n",
    "\n",
    "def createBertLayer(model_dir, trainable=False):\n",
    "#     global bert_layer\n",
    "\n",
    "    bertDir     = model_dir\n",
    "\n",
    "    bert_params = bert.params_from_pretrained_ckpt(bertDir)\n",
    "    bert_layer  = bert.BertModelLayer.from_params(bert_params, name=\"bert\")\n",
    "\n",
    "    \n",
    "    bert_layer.apply_adapter_freeze()\n",
    "    bert_layer.trainable = trainable\n",
    "    \n",
    "    return bert_layer\n",
    "\n",
    "def loadBertCheckpoint(model_dir):\n",
    "    modelsFolder = model_dir\n",
    "    #os.path.join(modelBertDir, \"multi_cased_L-12_H-768_A-12\")\n",
    "    checkpointName = os.path.join(modelsFolder, \"bert_model.ckpt\")\n",
    "\n",
    "    bert.load_stock_weights(bert_layer, checkpointName)\n",
    "    \n",
    "bert_layer = createBertLayer(model_dir, trainable=True)\n",
    "# bert_layer = createBertLayer(model_dir, trainable=False)"
   ]
  },
  {
   "cell_type": "code",
   "execution_count": 44,
   "metadata": {
    "scrolled": false
   },
   "outputs": [
    {
     "name": "stdout",
     "output_type": "stream",
     "text": [
      "Model: \"sequential_17\"\n",
      "_________________________________________________________________\n",
      "Layer (type)                 Output Shape              Param #   \n",
      "=================================================================\n",
      "bert (BertModelLayer)        (None, 59, 128)           4369152   \n",
      "_________________________________________________________________\n",
      "flatten_17 (Flatten)         (None, 7552)              0         \n",
      "_________________________________________________________________\n",
      "dense_29 (Dense)             (None, 64)                483392    \n",
      "_________________________________________________________________\n",
      "dropout_12 (Dropout)         (None, 64)                0         \n",
      "_________________________________________________________________\n",
      "dense_30 (Dense)             (None, 64)                4160      \n",
      "_________________________________________________________________\n",
      "dropout_13 (Dropout)         (None, 64)                0         \n",
      "_________________________________________________________________\n",
      "dense_31 (Dense)             (None, 2)                 130       \n",
      "=================================================================\n",
      "Total params: 4,856,834\n",
      "Trainable params: 4,856,834\n",
      "Non-trainable params: 0\n",
      "_________________________________________________________________\n",
      "None\n"
     ]
    }
   ],
   "source": [
    "import tensorflow as tf\n",
    "\n",
    "def createModel(bert_layer, max_seq_length):\n",
    "#     global model\n",
    "\n",
    "    model = tf.keras.Sequential([\n",
    "        tf.keras.layers.Input(shape=(max_seq_length, ), dtype='int32', name='input_ids'),\n",
    "        bert_layer,\n",
    "#         tf.keras.layers.Lambda(lambda x: tf.slice(x, (0, 58, 0), (-1, -1, -1))),\n",
    "#         tf.keras.layers.Lambda(lambda x: tf.slice(x, (0, 0, 0), (-1, 1, -1))),\n",
    "        tf.keras.layers.Flatten(),\n",
    "        tf.keras.layers.Dense(64, activation=tf.nn.relu),\n",
    "        tf.keras.layers.Dropout(0.2),\n",
    "        tf.keras.layers.Dense(64, activation=tf.nn.relu),\n",
    "        tf.keras.layers.Dropout(0.2),\n",
    "#         tf.keras.layers.Dense(2            \\\n",
    "#               ,  kernel_initializer='zeros'\\\n",
    "#               ,  bias_initializer='zeros'  \\\n",
    "#               , activation=tf.nn.softmax)\n",
    "        tf.keras.layers.Dense(2, activation=tf.nn.softmax)\n",
    "    ])\n",
    "\n",
    "    model.build(input_shape=(None, max_seq_length))\n",
    "\n",
    "    model.compile(loss='binary_crossentropy', optimizer=\"adamax\", metrics=['accuracy'])\n",
    "#     model.compile(loss='binary_crossentropy', optimizer=\"nadam\", metrics=['accuracy'])\n",
    "\n",
    "#     model.compile(loss=tf.losses.categorical_crossentropy\\\n",
    "#                   , optimizer=tf.optimizers.Adam(lr=0.00001)\\\n",
    "#                   , metrics=['accuracy'])\n",
    "#     model.compile(loss='binary_crossentropy', optimizer=tf.optimizers.Adam(lr=0.00001), metrics=['accuracy'])\n",
    "\n",
    "    print(model.summary())\n",
    "    \n",
    "    return model\n",
    "\n",
    "\n",
    "opt_vectorized_tweets.shape[-1]\n",
    "bert_model = createModel(bert_layer, 59)\n"
   ]
  },
  {
   "cell_type": "code",
   "execution_count": 28,
   "metadata": {},
   "outputs": [
    {
     "data": {
      "text/plain": [
       "[59, 59, 59, 59, 59, 59, 59, 59, 59, 59]"
      ]
     },
     "execution_count": 28,
     "metadata": {},
     "output_type": "execute_result"
    }
   ],
   "source": [
    "list(map(len, opt_vectorized_tweets))[:10]"
   ]
  },
  {
   "cell_type": "markdown",
   "metadata": {},
   "source": [
    "# Training"
   ]
  },
  {
   "cell_type": "code",
   "execution_count": 15,
   "metadata": {},
   "outputs": [
    {
     "name": "stdout",
     "output_type": "stream",
     "text": [
      "Binarized labels!\n",
      "Splitted data into Train: 5981; Dev: 747; Test: 747.\n",
      "\n"
     ]
    }
   ],
   "source": [
    "SETTING_1M1 = False\n",
    "\n",
    "if SETTING_1M1:\n",
    "        opt_vectorized_tweets, opt_gold_labels = remove_vague_tweets(\\\n",
    "                                                                opt_vectorized_tweets\\\n",
    "                                                              , opt_gold_labels)\n",
    "\n",
    "bin_opt_gold_labels = binarize_labels(gold_labels=opt_gold_labels)\n",
    "\n",
    "x_train, y_train, x_dev, y_dev, x_test, y_test = \\\n",
    "    train_dev_test_split(opt_vectorized_tweets\\\n",
    "                         , bin_opt_gold_labels, R_SEED=16)"
   ]
  },
  {
   "cell_type": "code",
   "execution_count": 10,
   "metadata": {},
   "outputs": [
    {
     "data": {
      "text/plain": [
       "[<bert.model.BertModelLayer at 0x7fd123953240>,\n",
       " <tensorflow.python.keras.layers.core.Flatten at 0x7fd10470feb8>,\n",
       " <tensorflow.python.keras.layers.core.Dense at 0x7fd125a31860>,\n",
       " <tensorflow.python.keras.layers.core.Dense at 0x7fd1046d3198>]"
      ]
     },
     "execution_count": 10,
     "metadata": {},
     "output_type": "execute_result"
    }
   ],
   "source": [
    "bert_model.layers"
   ]
  },
  {
   "cell_type": "code",
   "execution_count": 9,
   "metadata": {},
   "outputs": [
    {
     "data": {
      "text/plain": [
       "True"
      ]
     },
     "execution_count": 9,
     "metadata": {},
     "output_type": "execute_result"
    }
   ],
   "source": [
    "bert_model.layers[0].trainable = True\n",
    "bert_model.layers[0].trainable"
   ]
  },
  {
   "cell_type": "code",
   "execution_count": 30,
   "metadata": {},
   "outputs": [
    {
     "data": {
      "text/plain": [
       "array([ 0.5272612 ,  1.4449006 ,  0.46977505,  1.045044  ,  1.1221201 ,\n",
       "       -0.94925386, -1.3541353 ,  0.8795717 , -1.1001372 , -0.25499701,\n",
       "       -0.8382294 ,  0.9514894 , -1.4723521 ,  0.6447543 ,  0.10713472,\n",
       "        1.6250328 , -0.6151853 , -1.9606595 ,  0.58893675,  0.3026357 ,\n",
       "       -1.4222085 , -0.40718412, -1.2398641 , -1.2948484 , -1.443415  ,\n",
       "        1.831009  , -0.86234665, -0.8581671 , -0.7917121 , -0.20111005,\n",
       "        2.1556983 ,  0.6785896 , -0.6916874 , -0.82285035,  0.31803018,\n",
       "       -0.51501846,  0.85848063,  1.5976295 , -0.23283294, -1.8382604 ,\n",
       "       -0.5108446 ,  0.8197029 ,  0.05205271, -0.67483157,  0.08482747,\n",
       "       -0.89385945,  1.7305313 ,  0.34146693,  0.05391293,  0.8983458 ,\n",
       "        0.47701794, -1.4544165 , -0.31493902,  0.59361297,  0.1032688 ,\n",
       "        0.7668721 ,  0.46422988,  1.5083935 , -1.5108333 ,  1.719335  ,\n",
       "        0.39488208, -0.01377922,  0.99774003,  0.15359786,  0.45732597,\n",
       "        0.18889824, -1.3783244 , -0.36184424,  0.68021923,  0.9394006 ,\n",
       "       -0.45182788,  0.9081352 , -0.5163956 , -0.17105949, -0.8150718 ,\n",
       "        0.76219845, -1.0372401 , -1.0016848 ,  1.304106  , -0.11182487,\n",
       "        0.2810698 ,  0.8595566 ,  1.9362907 ,  1.8378981 , -0.7562493 ,\n",
       "       -1.0411152 , -0.5091338 , -0.5067883 , -0.96119624, -1.041496  ,\n",
       "       -0.9472002 ,  1.6885481 , -1.6331197 , -0.5991348 , -0.24177237,\n",
       "       -0.3209    , -1.6789868 ,  0.5414258 ,  0.5087724 ,  0.3858611 ,\n",
       "        0.2801803 ,  1.5766454 , -1.3544877 , -0.46893358, -0.15474616,\n",
       "        0.3681822 , -0.5851989 ,  1.1068268 , -0.8511188 , -0.25792712,\n",
       "        0.5321431 , -1.1175344 ,  1.5725312 , -0.44397783, -0.238226  ,\n",
       "        1.655038  ,  1.9771973 , -0.6562777 ,  1.2398286 , -0.5472351 ,\n",
       "       -0.99049467, -0.14305224, -1.6176844 ,  0.11403134, -0.64702755,\n",
       "        1.8854797 ,  0.04031088, -1.2397383 ], dtype=float32)"
      ]
     },
     "execution_count": 30,
     "metadata": {},
     "output_type": "execute_result"
    }
   ],
   "source": [
    "np.linalg.norm(bert_model.predict(x_train[:1])[0] - bert_model.predict(x_train[:200])[121])\n",
    "\n",
    "bert_model.predict(x_train[:200])[100]"
   ]
  },
  {
   "cell_type": "code",
   "execution_count": 9,
   "metadata": {},
   "outputs": [
    {
     "data": {
      "text/plain": [
       "array([[0.4801068 , 0.5198932 ],\n",
       "       [0.34331575, 0.6566842 ],\n",
       "       [0.88657224, 0.11342774]], dtype=float32)"
      ]
     },
     "execution_count": 9,
     "metadata": {},
     "output_type": "execute_result"
    }
   ],
   "source": [
    "bert_model.predict(x_train[:3])"
   ]
  },
  {
   "cell_type": "code",
   "execution_count": 19,
   "metadata": {},
   "outputs": [
    {
     "data": {
      "text/plain": [
       "array([[0.36297938, 0.63702065],\n",
       "       [0.371982  , 0.62801796],\n",
       "       [0.38174284, 0.6182571 ]], dtype=float32)"
      ]
     },
     "execution_count": 19,
     "metadata": {},
     "output_type": "execute_result"
    }
   ],
   "source": [
    "bert_model.predict(x_train[:3])"
   ]
  },
  {
   "cell_type": "code",
   "execution_count": 17,
   "metadata": {},
   "outputs": [
    {
     "data": {
      "text/plain": [
       "array([[ 101, 5291, 2039, ...,    0,    0,    0],\n",
       "       [ 101, 2028, 2442, ...,    0,    0,    0],\n",
       "       [ 101, 2061, 5457, ...,    0,    0,    0],\n",
       "       ...,\n",
       "       [ 101, 1030, 6316, ...,    0,    0,    0],\n",
       "       [ 101, 6616, 2035, ...,    0,    0,    0],\n",
       "       [ 101, 1030, 2033, ...,    0,    0,    0]])"
      ]
     },
     "execution_count": 17,
     "metadata": {},
     "output_type": "execute_result"
    }
   ],
   "source": [
    "x_train"
   ]
  },
  {
   "cell_type": "markdown",
   "metadata": {},
   "source": [
    "# Observations:\n",
    "Only the first part of the embedding, _[CLS]_ embedding:\n",
    " 1. Large `batch_size` ($>128$) caused no learning (stagnate to predicting one class).\n",
    " 2. `batch_size` of $32$ worked well with fine-tuning. $0.7216$ val. accuracy after $1$ epoch;\n",
    " 3. no fine-tuning, with one or two additional layers gets stuck. \n",
    " \n",
    "Using not just the first component of the BERT embedding "
   ]
  },
  {
   "cell_type": "code",
   "execution_count": 45,
   "metadata": {
    "scrolled": true
   },
   "outputs": [
    {
     "name": "stdout",
     "output_type": "stream",
     "text": [
      "Train on 5981 samples, validate on 747 samples\n",
      "Epoch 1/30\n",
      "5981/5981 [==============================] - 72s 12ms/sample - loss: 0.7374 - accuracy: 0.5466 - val_loss: 0.6914 - val_accuracy: 0.5328\n",
      "Epoch 2/30\n",
      "5981/5981 [==============================] - 68s 11ms/sample - loss: 0.6877 - accuracy: 0.5621 - val_loss: 0.6910 - val_accuracy: 0.5328\n",
      "Epoch 3/30\n",
      "5981/5981 [==============================] - 68s 11ms/sample - loss: 0.6860 - accuracy: 0.5619 - val_loss: 0.6915 - val_accuracy: 0.5341\n",
      "Epoch 4/30\n",
      "5981/5981 [==============================] - 76s 13ms/sample - loss: 0.6855 - accuracy: 0.5621 - val_loss: 0.6923 - val_accuracy: 0.5328\n",
      "Epoch 5/30\n",
      "5981/5981 [==============================] - 70s 12ms/sample - loss: 0.6851 - accuracy: 0.5633 - val_loss: 0.6924 - val_accuracy: 0.5328\n",
      "Epoch 6/30\n",
      "5981/5981 [==============================] - 73s 12ms/sample - loss: 0.6852 - accuracy: 0.5621 - val_loss: 0.6926 - val_accuracy: 0.5328\n",
      "Epoch 7/30\n",
      "5981/5981 [==============================] - 70s 12ms/sample - loss: 0.6843 - accuracy: 0.5636 - val_loss: 0.6929 - val_accuracy: 0.5328\n",
      "Epoch 8/30\n",
      "5981/5981 [==============================] - 70s 12ms/sample - loss: 0.6836 - accuracy: 0.5640 - val_loss: 0.6916 - val_accuracy: 0.5368\n",
      "Epoch 9/30\n",
      "5981/5981 [==============================] - 71s 12ms/sample - loss: 0.6813 - accuracy: 0.5681 - val_loss: 0.6924 - val_accuracy: 0.5382\n",
      "Epoch 10/30\n",
      "5981/5981 [==============================] - 73s 12ms/sample - loss: 0.6795 - accuracy: 0.5696 - val_loss: 0.6935 - val_accuracy: 0.5328\n",
      "Epoch 11/30\n",
      "5981/5981 [==============================] - 71s 12ms/sample - loss: 0.6770 - accuracy: 0.5767 - val_loss: 0.7041 - val_accuracy: 0.5181\n",
      "Epoch 12/30\n",
      "5981/5981 [==============================] - 69s 12ms/sample - loss: 0.6686 - accuracy: 0.5835 - val_loss: 0.6926 - val_accuracy: 0.5368\n",
      "Epoch 13/30\n",
      "5981/5981 [==============================] - 68s 11ms/sample - loss: 0.6588 - accuracy: 0.5929 - val_loss: 0.6924 - val_accuracy: 0.5382\n",
      "Epoch 14/30\n",
      "5981/5981 [==============================] - 68s 11ms/sample - loss: 0.6408 - accuracy: 0.6165 - val_loss: 0.6797 - val_accuracy: 0.5850\n",
      "Epoch 15/30\n",
      "5981/5981 [==============================] - 69s 12ms/sample - loss: 0.6023 - accuracy: 0.6554 - val_loss: 0.6507 - val_accuracy: 0.6238\n",
      "Epoch 16/30\n",
      "5981/5981 [==============================] - 70s 12ms/sample - loss: 0.5327 - accuracy: 0.7134 - val_loss: 0.6154 - val_accuracy: 0.6707\n",
      "Epoch 17/30\n",
      "5981/5981 [==============================] - 71s 12ms/sample - loss: 0.4599 - accuracy: 0.7607 - val_loss: 0.6535 - val_accuracy: 0.6948\n",
      "Epoch 18/30\n",
      "5981/5981 [==============================] - 71s 12ms/sample - loss: 0.3930 - accuracy: 0.8069 - val_loss: 0.5942 - val_accuracy: 0.6841\n",
      "Epoch 19/30\n",
      "5981/5981 [==============================] - 73s 12ms/sample - loss: 0.3177 - accuracy: 0.8500 - val_loss: 0.6874 - val_accuracy: 0.7108\n",
      "Epoch 20/30\n",
      "5981/5981 [==============================] - 70s 12ms/sample - loss: 0.2710 - accuracy: 0.8774 - val_loss: 0.7208 - val_accuracy: 0.7256\n",
      "Epoch 21/30\n",
      "5981/5981 [==============================] - 70s 12ms/sample - loss: 0.2110 - accuracy: 0.9035 - val_loss: 0.7636 - val_accuracy: 0.7162\n",
      "Epoch 22/30\n",
      "5981/5981 [==============================] - 71s 12ms/sample - loss: 0.1626 - accuracy: 0.9326 - val_loss: 0.9590 - val_accuracy: 0.7216\n",
      "Epoch 23/30\n",
      "5981/5981 [==============================] - 69s 12ms/sample - loss: 0.1306 - accuracy: 0.9435 - val_loss: 0.9170 - val_accuracy: 0.7256\n",
      "Epoch 24/30\n",
      "5981/5981 [==============================] - 68s 11ms/sample - loss: 0.1003 - accuracy: 0.9584 - val_loss: 1.3154 - val_accuracy: 0.7256\n",
      "Epoch 25/30\n",
      "5981/5981 [==============================] - 66s 11ms/sample - loss: 0.0792 - accuracy: 0.9689 - val_loss: 1.2597 - val_accuracy: 0.7175\n",
      "Epoch 26/30\n",
      "5981/5981 [==============================] - 68s 11ms/sample - loss: 0.0640 - accuracy: 0.9751 - val_loss: 1.3314 - val_accuracy: 0.7189\n",
      "Epoch 27/30\n",
      "5981/5981 [==============================] - 63s 11ms/sample - loss: 0.0473 - accuracy: 0.9823 - val_loss: 1.4794 - val_accuracy: 0.7282\n",
      "Epoch 28/30\n",
      "5981/5981 [==============================] - 67s 11ms/sample - loss: 0.0406 - accuracy: 0.9836 - val_loss: 1.6168 - val_accuracy: 0.7323\n",
      "Epoch 29/30\n",
      "5981/5981 [==============================] - 69s 12ms/sample - loss: 0.0407 - accuracy: 0.9841 - val_loss: 1.7201 - val_accuracy: 0.7256\n",
      "Epoch 30/30\n",
      "5981/5981 [==============================] - 69s 12ms/sample - loss: 0.0313 - accuracy: 0.9906 - val_loss: 1.8232 - val_accuracy: 0.7497\n"
     ]
    }
   ],
   "source": [
    "history = bert_model.fit(\n",
    "        x_train,\n",
    "        y_train,\n",
    "        epochs=30,\n",
    "#         epochs=300,\n",
    "        batch_size=16,\n",
    "        validation_data=(x_dev, y_dev),\n",
    "        verbose=1,\n",
    "#         callbacks=[cp_callback]\n",
    "    )"
   ]
  },
  {
   "cell_type": "markdown",
   "metadata": {},
   "source": [
    "# Plots"
   ]
  },
  {
   "cell_type": "code",
   "execution_count": 46,
   "metadata": {},
   "outputs": [
    {
     "name": "stdout",
     "output_type": "stream",
     "text": [
      "Model: \"sequential_17\"\n",
      "_________________________________________________________________\n",
      "Layer (type)                 Output Shape              Param #   \n",
      "=================================================================\n",
      "bert (BertModelLayer)        (None, 59, 128)           4369152   \n",
      "_________________________________________________________________\n",
      "flatten_17 (Flatten)         (None, 7552)              0         \n",
      "_________________________________________________________________\n",
      "dense_29 (Dense)             (None, 64)                483392    \n",
      "_________________________________________________________________\n",
      "dropout_12 (Dropout)         (None, 64)                0         \n",
      "_________________________________________________________________\n",
      "dense_30 (Dense)             (None, 64)                4160      \n",
      "_________________________________________________________________\n",
      "dropout_13 (Dropout)         (None, 64)                0         \n",
      "_________________________________________________________________\n",
      "dense_31 (Dense)             (None, 2)                 130       \n",
      "=================================================================\n",
      "Total params: 4,856,834\n",
      "Trainable params: 4,856,834\n",
      "Non-trainable params: 0\n",
      "_________________________________________________________________\n"
     ]
    },
    {
     "data": {
      "image/png": "[encoded data removed]",
      "text/plain": [
       "<Figure size 432x288 with 1 Axes>"
      ]
     },
     "metadata": {
      "needs_background": "light"
     },
     "output_type": "display_data"
    }
   ],
   "source": [
    "import matplotlib.pyplot as plt \n",
    "\n",
    "\n",
    "bert_model.summary()\n",
    "\n",
    "plt.title(\"Accuracy improvement over training epochs\")\n",
    "# plt.plot(hist_df[\"accuracy\"])\n",
    "# plt.plot(training_errors, label=\"Training Acc\")\n",
    "# plt.plot(validation_errors, label = \"Validation Acc\" )\n",
    "plt.plot(history.history[\"val_accuracy\"], label=\"Val Acc.\")\n",
    "plt.plot(history.history[\"accuracy\"], label=\"Train Acc.\")\n",
    "plt.ylabel(\"Acc\")\n",
    "plt.xlabel(\"#Epochs\")\n",
    "plt.grid()\n",
    "plt.ylim(0.4, ymax = 1.01)\n",
    "plt.legend()\n",
    "plt.show()\n"
   ]
  },
  {
   "cell_type": "code",
   "execution_count": 40,
   "metadata": {},
   "outputs": [
    {
     "name": "stdout",
     "output_type": "stream",
     "text": [
      "Model: \"sequential_14\"\n",
      "_________________________________________________________________\n",
      "Layer (type)                 Output Shape              Param #   \n",
      "=================================================================\n",
      "bert (BertModelLayer)        (None, 59, 128)           4369152   \n",
      "_________________________________________________________________\n",
      "flatten_14 (Flatten)         (None, 7552)              0         \n",
      "_________________________________________________________________\n",
      "dropout_7 (Dropout)          (None, 7552)              0         \n",
      "_________________________________________________________________\n",
      "dense_21 (Dense)             (None, 64)                483392    \n",
      "_________________________________________________________________\n",
      "dropout_8 (Dropout)          (None, 64)                0         \n",
      "_________________________________________________________________\n",
      "dense_22 (Dense)             (None, 2)                 130       \n",
      "=================================================================\n",
      "Total params: 4,852,674\n",
      "Trainable params: 483,522\n",
      "Non-trainable params: 4,369,152\n",
      "_________________________________________________________________\n"
     ]
    },
    {
     "data": {
      "image/png": "[encoded data removed]",
      "text/plain": [
       "<Figure size 432x288 with 1 Axes>"
      ]
     },
     "metadata": {
      "needs_background": "light"
     },
     "output_type": "display_data"
    }
   ],
   "source": [
    "import matplotlib.pyplot as plt \n",
    "\n",
    "\n",
    "bert_model.summary()\n",
    "\n",
    "plt.title(\"Accuracy improvement over training epochs\")\n",
    "# plt.plot(hist_df[\"accuracy\"])\n",
    "# plt.plot(training_errors, label=\"Training Acc\")\n",
    "# plt.plot(validation_errors, label = \"Validation Acc\" )\n",
    "plt.plot(history.history[\"val_accuracy\"], label=\"Val Acc.\")\n",
    "plt.plot(history.history[\"accuracy\"], label=\"Train Acc.\")\n",
    "plt.ylabel(\"Acc\")\n",
    "plt.xlabel(\"#Epochs\")\n",
    "plt.grid()\n",
    "plt.ylim(0.4, ymax = 1.01)\n",
    "plt.legend()\n",
    "plt.show()\n"
   ]
  },
  {
   "cell_type": "code",
   "execution_count": 36,
   "metadata": {},
   "outputs": [
    {
     "name": "stdout",
     "output_type": "stream",
     "text": [
      "Model: \"sequential_12\"\n",
      "_________________________________________________________________\n",
      "Layer (type)                 Output Shape              Param #   \n",
      "=================================================================\n",
      "bert (BertModelLayer)        (None, 59, 128)           4369152   \n",
      "_________________________________________________________________\n",
      "flatten_12 (Flatten)         (None, 7552)              0         \n",
      "_________________________________________________________________\n",
      "dense_18 (Dense)             (None, 2)                 15106     \n",
      "=================================================================\n",
      "Total params: 4,384,258\n",
      "Trainable params: 15,106\n",
      "Non-trainable params: 4,369,152\n",
      "_________________________________________________________________\n"
     ]
    },
    {
     "data": {
      "image/png": "[encoded data removed]",
      "text/plain": [
       "<Figure size 432x288 with 1 Axes>"
      ]
     },
     "metadata": {
      "needs_background": "light"
     },
     "output_type": "display_data"
    }
   ],
   "source": [
    "import matplotlib.pyplot as plt \n",
    "\n",
    "\n",
    "bert_model.summary()\n",
    "\n",
    "plt.title(\"Accuracy improvement over training epochs\")\n",
    "# plt.plot(hist_df[\"accuracy\"])\n",
    "# plt.plot(training_errors, label=\"Training Acc\")\n",
    "# plt.plot(validation_errors, label = \"Validation Acc\" )\n",
    "plt.plot(history.history[\"val_accuracy\"], label=\"Val Acc.\")\n",
    "plt.plot(history.history[\"accuracy\"], label=\"Train Acc.\")\n",
    "plt.ylabel(\"Acc\")\n",
    "plt.xlabel(\"#Epochs\")\n",
    "plt.grid()\n",
    "plt.ylim(0.4, ymax = 1.01)\n",
    "plt.legend()\n",
    "plt.show()\n"
   ]
  },
  {
   "cell_type": "markdown",
   "metadata": {},
   "source": [
    "# Drafts"
   ]
  },
  {
   "cell_type": "code",
   "execution_count": 8,
   "metadata": {
    "scrolled": true
   },
   "outputs": [
    {
     "name": "stdout",
     "output_type": "stream",
     "text": [
      "Train on 5981 samples, validate on 747 samples\n",
      "Epoch 1/30\n",
      "5981/5981 [==============================] - 71s 12ms/sample - loss: 1.1059 - accuracy: 0.5410 - val_loss: 0.7751 - val_accuracy: 0.5502\n",
      "Epoch 2/30\n",
      "5981/5981 [==============================] - 67s 11ms/sample - loss: 0.6628 - accuracy: 0.6562 - val_loss: 0.7031 - val_accuracy: 0.6265\n",
      "Epoch 3/30\n",
      "5981/5981 [==============================] - 67s 11ms/sample - loss: 0.5347 - accuracy: 0.7474 - val_loss: 0.6699 - val_accuracy: 0.6774\n",
      "Epoch 4/30\n",
      "5981/5981 [==============================] - 67s 11ms/sample - loss: 0.3792 - accuracy: 0.8328 - val_loss: 0.7796 - val_accuracy: 0.6720\n",
      "Epoch 5/30\n",
      "5981/5981 [==============================] - 67s 11ms/sample - loss: 0.2940 - accuracy: 0.8701 - val_loss: 0.7902 - val_accuracy: 0.6894\n",
      "Epoch 6/30\n",
      "5981/5981 [==============================] - 67s 11ms/sample - loss: 0.2111 - accuracy: 0.9149 - val_loss: 0.8968 - val_accuracy: 0.6961\n",
      "Epoch 7/30\n",
      "5981/5981 [==============================] - 67s 11ms/sample - loss: 0.1440 - accuracy: 0.9423 - val_loss: 1.0351 - val_accuracy: 0.7055\n",
      "Epoch 8/30\n",
      "5981/5981 [==============================] - 67s 11ms/sample - loss: 0.0976 - accuracy: 0.9600 - val_loss: 1.1937 - val_accuracy: 0.7028\n",
      "Epoch 9/30\n",
      "5981/5981 [==============================] - 67s 11ms/sample - loss: 0.0710 - accuracy: 0.9754 - val_loss: 1.2182 - val_accuracy: 0.7028\n",
      "Epoch 10/30\n",
      "5981/5981 [==============================] - 67s 11ms/sample - loss: 0.0584 - accuracy: 0.9794 - val_loss: 1.2532 - val_accuracy: 0.6827\n",
      "Epoch 11/30\n",
      "5981/5981 [==============================] - 67s 11ms/sample - loss: 0.0431 - accuracy: 0.9866 - val_loss: 1.4373 - val_accuracy: 0.6975\n",
      "Epoch 12/30\n",
      "5981/5981 [==============================] - 67s 11ms/sample - loss: 0.0319 - accuracy: 0.9891 - val_loss: 1.5978 - val_accuracy: 0.6774\n",
      "Epoch 13/30\n",
      "5981/5981 [==============================] - 67s 11ms/sample - loss: 0.0279 - accuracy: 0.9890 - val_loss: 1.5412 - val_accuracy: 0.6988\n",
      "Epoch 14/30\n",
      "5981/5981 [==============================] - 68s 11ms/sample - loss: 0.0259 - accuracy: 0.9915 - val_loss: 1.4963 - val_accuracy: 0.7082\n",
      "Epoch 15/30\n",
      "5981/5981 [==============================] - 69s 11ms/sample - loss: 0.0249 - accuracy: 0.9891 - val_loss: 1.5958 - val_accuracy: 0.6841\n",
      "Epoch 16/30\n",
      "5981/5981 [==============================] - 69s 12ms/sample - loss: 0.0169 - accuracy: 0.9946 - val_loss: 1.6172 - val_accuracy: 0.7216\n",
      "Epoch 17/30\n",
      "5981/5981 [==============================] - 69s 11ms/sample - loss: 0.0127 - accuracy: 0.9952 - val_loss: 1.6990 - val_accuracy: 0.6988\n",
      "Epoch 18/30\n",
      "5981/5981 [==============================] - 68s 11ms/sample - loss: 0.0158 - accuracy: 0.9938 - val_loss: 1.7727 - val_accuracy: 0.7149\n",
      "Epoch 19/30\n",
      "5981/5981 [==============================] - 68s 11ms/sample - loss: 0.0181 - accuracy: 0.9946 - val_loss: 1.7982 - val_accuracy: 0.7108\n",
      "Epoch 20/30\n",
      "5981/5981 [==============================] - 68s 11ms/sample - loss: 0.0109 - accuracy: 0.9958 - val_loss: 1.8148 - val_accuracy: 0.7015\n",
      "Epoch 21/30\n",
      "5981/5981 [==============================] - 68s 11ms/sample - loss: 0.0120 - accuracy: 0.9967 - val_loss: 2.1611 - val_accuracy: 0.6948\n",
      "Epoch 22/30\n",
      "5981/5981 [==============================] - 68s 11ms/sample - loss: 0.0101 - accuracy: 0.9973 - val_loss: 1.8425 - val_accuracy: 0.7108\n",
      "Epoch 23/30\n",
      "5981/5981 [==============================] - 69s 12ms/sample - loss: 0.0104 - accuracy: 0.9963 - val_loss: 2.0364 - val_accuracy: 0.6908\n",
      "Epoch 24/30\n",
      "5981/5981 [==============================] - 68s 11ms/sample - loss: 0.0069 - accuracy: 0.9982 - val_loss: 1.9586 - val_accuracy: 0.7242\n",
      "Epoch 25/30\n",
      "5981/5981 [==============================] - 68s 11ms/sample - loss: 0.0058 - accuracy: 0.9982 - val_loss: 2.0369 - val_accuracy: 0.7363\n",
      "Epoch 26/30\n",
      "5981/5981 [==============================] - 68s 11ms/sample - loss: 0.0085 - accuracy: 0.9963 - val_loss: 1.9169 - val_accuracy: 0.7256\n",
      "Epoch 27/30\n",
      "5981/5981 [==============================] - 69s 11ms/sample - loss: 0.0040 - accuracy: 0.9990 - val_loss: 1.9609 - val_accuracy: 0.7216\n",
      "Epoch 28/30\n",
      "5981/5981 [==============================] - 68s 11ms/sample - loss: 0.0060 - accuracy: 0.9978 - val_loss: 2.0439 - val_accuracy: 0.7242\n",
      "Epoch 29/30\n",
      "5981/5981 [==============================] - 69s 11ms/sample - loss: 0.0053 - accuracy: 0.9978 - val_loss: 1.9965 - val_accuracy: 0.7095\n",
      "Epoch 30/30\n",
      "5981/5981 [==============================] - 69s 12ms/sample - loss: 0.0081 - accuracy: 0.9975 - val_loss: 1.9419 - val_accuracy: 0.7028\n"
     ]
    }
   ],
   "source": [
    "history = bert_model.fit(\n",
    "        x_train,\n",
    "        y_train,\n",
    "        epochs=30,\n",
    "#         epochs=300,\n",
    "        batch_size=16,\n",
    "        validation_data=(x_dev, y_dev),\n",
    "        verbose=1,\n",
    "#         callbacks=[cp_callback]\n",
    "    )"
   ]
  },
  {
   "cell_type": "code",
   "execution_count": 9,
   "metadata": {},
   "outputs": [
    {
     "data": {
      "image/png": "[encoded data removed]",
      "text/plain": [
       "<Figure size 432x288 with 1 Axes>"
      ]
     },
     "metadata": {
      "needs_background": "light"
     },
     "output_type": "display_data"
    }
   ],
   "source": [
    "import matplotlib.pyplot as plt \n",
    "\n",
    "plt.title(\"Accuracy improvement over training epochs\")\n",
    "# plt.plot(hist_df[\"accuracy\"])\n",
    "# plt.plot(training_errors, label=\"Training Acc\")\n",
    "# plt.plot(validation_errors, label = \"Validation Acc\" )\n",
    "plt.plot(history.history[\"val_accuracy\"], label=\"Val Acc.\")\n",
    "plt.plot(history.history[\"accuracy\"], label=\"Train Acc.\")\n",
    "plt.ylabel(\"Acc\")\n",
    "plt.xlabel(\"#Epochs\")\n",
    "plt.grid()\n",
    "plt.ylim(0.4, ymax = 1.01)\n",
    "plt.legend()\n",
    "plt.show()"
   ]
  },
  {
   "cell_type": "code",
   "execution_count": null,
   "metadata": {},
   "outputs": [],
   "source": []
  },
  {
   "cell_type": "code",
   "execution_count": null,
   "metadata": {},
   "outputs": [],
   "source": [
    "bert"
   ]
  },
  {
   "cell_type": "code",
   "execution_count": null,
   "metadata": {},
   "outputs": [],
   "source": []
  },
  {
   "cell_type": "markdown",
   "metadata": {},
   "source": [
    "# Drafts"
   ]
  },
  {
   "cell_type": "code",
   "execution_count": 11,
   "metadata": {
    "scrolled": true
   },
   "outputs": [
    {
     "name": "stdout",
     "output_type": "stream",
     "text": [
      "Train on 5981 samples, validate on 747 samples\n",
      "Epoch 1/15\n",
      "5981/5981 [==============================] - 48s 8ms/sample - loss: 1.8510 - accuracy: 0.5303 - val_loss: 0.8173 - val_accuracy: 0.5408\n",
      "Epoch 2/15\n",
      "5981/5981 [==============================] - 45s 7ms/sample - loss: 0.7495 - accuracy: 0.6273 - val_loss: 0.6625 - val_accuracy: 0.6198\n",
      "Epoch 3/15\n",
      "5981/5981 [==============================] - 45s 7ms/sample - loss: 0.5432 - accuracy: 0.7335 - val_loss: 0.6754 - val_accuracy: 0.6345\n",
      "Epoch 4/15\n",
      "5981/5981 [==============================] - 45s 7ms/sample - loss: 0.4593 - accuracy: 0.7893 - val_loss: 0.6410 - val_accuracy: 0.6693\n",
      "Epoch 5/15\n",
      "5981/5981 [==============================] - 45s 7ms/sample - loss: 0.3822 - accuracy: 0.8316 - val_loss: 0.6060 - val_accuracy: 0.7082\n",
      "Epoch 6/15\n",
      "5981/5981 [==============================] - 45s 8ms/sample - loss: 0.3129 - accuracy: 0.8602 - val_loss: 0.6162 - val_accuracy: 0.7055\n",
      "Epoch 7/15\n",
      "5981/5981 [==============================] - 45s 8ms/sample - loss: 0.2600 - accuracy: 0.8948 - val_loss: 0.6022 - val_accuracy: 0.7269\n",
      "Epoch 8/15\n",
      "5981/5981 [==============================] - 45s 7ms/sample - loss: 0.2126 - accuracy: 0.9196 - val_loss: 0.6262 - val_accuracy: 0.7282\n",
      "Epoch 9/15\n",
      "5981/5981 [==============================] - 44s 7ms/sample - loss: 0.1731 - accuracy: 0.9360 - val_loss: 0.6556 - val_accuracy: 0.7269\n",
      "Epoch 10/15\n",
      "5981/5981 [==============================] - 44s 7ms/sample - loss: 0.1547 - accuracy: 0.9437 - val_loss: 0.6622 - val_accuracy: 0.7390\n",
      "Epoch 11/15\n",
      "5981/5981 [==============================] - 44s 7ms/sample - loss: 0.1205 - accuracy: 0.9584 - val_loss: 0.6779 - val_accuracy: 0.7483\n",
      "Epoch 12/15\n",
      "5981/5981 [==============================] - 44s 7ms/sample - loss: 0.1005 - accuracy: 0.9671 - val_loss: 0.7079 - val_accuracy: 0.7456\n",
      "Epoch 13/15\n",
      "5981/5981 [==============================] - 45s 7ms/sample - loss: 0.0791 - accuracy: 0.9756 - val_loss: 0.7492 - val_accuracy: 0.7470\n",
      "Epoch 14/15\n",
      "5981/5981 [==============================] - 45s 7ms/sample - loss: 0.0738 - accuracy: 0.9771 - val_loss: 0.7720 - val_accuracy: 0.7537\n",
      "Epoch 15/15\n",
      "5981/5981 [==============================] - 44s 7ms/sample - loss: 0.0620 - accuracy: 0.9811 - val_loss: 0.8122 - val_accuracy: 0.7416\n"
     ]
    }
   ],
   "source": [
    "history = bert_model.fit(\n",
    "        x_train,\n",
    "        y_train,\n",
    "        epochs=15,\n",
    "#         epochs=300,\n",
    "        batch_size=256,\n",
    "        validation_data=(x_dev, y_dev),\n",
    "        verbose=1,\n",
    "#         callbacks=[cp_callback]\n",
    "    )"
   ]
  },
  {
   "cell_type": "markdown",
   "metadata": {},
   "source": [
    "# Plots"
   ]
  },
  {
   "cell_type": "code",
   "execution_count": 13,
   "metadata": {},
   "outputs": [],
   "source": [
    "import matplotlib.pyplot as plt"
   ]
  },
  {
   "cell_type": "code",
   "execution_count": 14,
   "metadata": {},
   "outputs": [
    {
     "data": {
      "image/png": "[encoded data removed]",
      "text/plain": [
       "<Figure size 432x288 with 1 Axes>"
      ]
     },
     "metadata": {
      "needs_background": "light"
     },
     "output_type": "display_data"
    }
   ],
   "source": [
    "\n",
    "plt.title(\"Accuracy improvement over training epochs\")\n",
    "# plt.plot(hist_df[\"accuracy\"])\n",
    "# plt.plot(training_errors, label=\"Training Acc\")\n",
    "# plt.plot(validation_errors, label = \"Validation Acc\" )\n",
    "plt.plot(history.history[\"val_accuracy\"], label=\"Val Acc.\")\n",
    "plt.plot(history.history[\"accuracy\"], label=\"Train Acc.\")\n",
    "plt.ylabel(\"Acc\")\n",
    "plt.xlabel(\"#Epochs\")\n",
    "plt.grid()\n",
    "plt.ylim(0.4, ymax = 1.01)\n",
    "plt.legend()\n",
    "plt.show()"
   ]
  },
  {
   "cell_type": "code",
   "execution_count": 17,
   "metadata": {},
   "outputs": [
    {
     "data": {
      "image/png": "[encoded data removed]",
      "text/plain": [
       "<Figure size 432x288 with 1 Axes>"
      ]
     },
     "metadata": {
      "needs_background": "light"
     },
     "output_type": "display_data"
    }
   ],
   "source": [
    "\n",
    "plt.title(\"Accuracy improvement over training epochs\")\n",
    "# plt.plot(hist_df[\"accuracy\"])\n",
    "# plt.plot(training_errors, label=\"Training Acc\")\n",
    "# plt.plot(validation_errors, label = \"Validation Acc\" )\n",
    "plt.plot(history.history[\"val_accuracy\"], label=\"Val Acc.\")\n",
    "plt.plot(history.history[\"accuracy\"], label=\"Train Acc.\")\n",
    "plt.ylabel(\"Acc\")\n",
    "plt.xlabel(\"#Epochs\")\n",
    "plt.grid()\n",
    "plt.ylim(0.4, ymax = 1.01)\n",
    "plt.legend()\n",
    "plt.show()"
   ]
  },
  {
   "cell_type": "code",
   "execution_count": 18,
   "metadata": {},
   "outputs": [
    {
     "name": "stdout",
     "output_type": "stream",
     "text": [
      "Train on 5981 samples, validate on 747 samples\n",
      "Epoch 1/10\n",
      "5981/5981 [==============================] - 47s 8ms/sample - loss: 0.3212 - accuracy: 0.8935 - val_loss: 0.5890 - val_accuracy: 0.6760\n",
      "Epoch 2/10\n",
      "5981/5981 [==============================] - 47s 8ms/sample - loss: 0.2629 - accuracy: 0.9216 - val_loss: 0.6239 - val_accuracy: 0.6760\n",
      "Epoch 3/10\n",
      "5981/5981 [==============================] - 46s 8ms/sample - loss: 0.2144 - accuracy: 0.9388 - val_loss: 0.6172 - val_accuracy: 0.6881\n",
      "Epoch 4/10\n",
      "5981/5981 [==============================] - 47s 8ms/sample - loss: 0.1688 - accuracy: 0.9564 - val_loss: 0.6620 - val_accuracy: 0.6801\n",
      "Epoch 5/10\n",
      "5981/5981 [==============================] - 46s 8ms/sample - loss: 0.1383 - accuracy: 0.9637 - val_loss: 0.6374 - val_accuracy: 0.7095\n",
      "Epoch 6/10\n",
      "5981/5981 [==============================] - 45s 8ms/sample - loss: 0.1095 - accuracy: 0.9732 - val_loss: 0.6619 - val_accuracy: 0.7229\n",
      "Epoch 7/10\n",
      "5981/5981 [==============================] - 45s 8ms/sample - loss: 0.0843 - accuracy: 0.9798 - val_loss: 0.7098 - val_accuracy: 0.7041\n",
      "Epoch 8/10\n",
      "5981/5981 [==============================] - 45s 8ms/sample - loss: 0.0676 - accuracy: 0.9865 - val_loss: 0.7263 - val_accuracy: 0.7175\n",
      "Epoch 9/10\n",
      "5981/5981 [==============================] - 46s 8ms/sample - loss: 0.0508 - accuracy: 0.9905 - val_loss: 0.7753 - val_accuracy: 0.7189\n",
      "Epoch 10/10\n",
      "5981/5981 [==============================] - 45s 8ms/sample - loss: 0.0430 - accuracy: 0.9908 - val_loss: 0.8169 - val_accuracy: 0.7149\n"
     ]
    }
   ],
   "source": [
    "history_1 = bert_model.fit(\n",
    "        x_train,\n",
    "        y_train,\n",
    "        epochs=10,\n",
    "#         epochs=300,\n",
    "        batch_size=256,\n",
    "        validation_data=(x_dev, y_dev),\n",
    "        verbose=1,\n",
    "#         callbacks=[cp_callback]\n",
    "    )"
   ]
  },
  {
   "cell_type": "code",
   "execution_count": 20,
   "metadata": {},
   "outputs": [
    {
     "data": {
      "image/png": "[encoded data removed]",
      "text/plain": [
       "<Figure size 432x288 with 1 Axes>"
      ]
     },
     "metadata": {
      "needs_background": "light"
     },
     "output_type": "display_data"
    }
   ],
   "source": [
    "\n",
    "plt.title(\"Accuracy improvement over training epochs\")\n",
    "# plt.plot(hist_df[\"accuracy\"])\n",
    "# plt.plot(training_errors, label=\"Training Acc\")\n",
    "# plt.plot(validation_errors, label = \"Validation Acc\" )\n",
    "plt.plot(history.history[\"val_accuracy\"] + history_1.history[\"val_accuracy\"], label=\"Val Acc.\")\n",
    "plt.plot(history.history[\"accuracy\"] + history_1.history[\"accuracy\"], label=\"Train Acc.\")\n",
    "plt.ylabel(\"Acc\")\n",
    "plt.xlabel(\"#Epochs\")\n",
    "plt.grid()\n",
    "plt.ylim(0.4, ymax = 1.01)\n",
    "plt.legend()\n",
    "plt.show()"
   ]
  },
  {
   "cell_type": "code",
   "execution_count": null,
   "metadata": {},
   "outputs": [],
   "source": []
  },
  {
   "cell_type": "code",
   "execution_count": null,
   "metadata": {},
   "outputs": [],
   "source": []
  },
  {
   "cell_type": "code",
   "execution_count": null,
   "metadata": {},
   "outputs": [],
   "source": [
    "def fitModel(training_set, training_label\\\n",
    "             , testing_set, testing_label):\n",
    "    checkpointName = os.path.join(modelDir, \"bert_faq.ckpt\")\n",
    "\n",
    "    # Create a callback that saves the model's weights\n",
    "    cp_callback = tf.keras.callbacks.ModelCheckpoint(filepath=checkpointName,\n",
    "                                                     save_weights_only=True,\n",
    "                                                     verbose=1)\n",
    "\n",
    "    # callback = StopTrainingClassComplete()\n",
    "\n",
    "    history = model.fit(\n",
    "        training_set,\n",
    "        training_label,\n",
    "        epochs=300,\n",
    "        validation_data=(testing_set, testing_label),\n",
    "        verbose=1,\n",
    "        callbacks=[cp_callback]\n",
    "    )"
   ]
  },
  {
   "cell_type": "code",
   "execution_count": null,
   "metadata": {},
   "outputs": [],
   "source": []
  },
  {
   "cell_type": "code",
   "execution_count": null,
   "metadata": {},
   "outputs": [],
   "source": []
  },
  {
   "cell_type": "markdown",
   "metadata": {},
   "source": [
    "# Drafts"
   ]
  },
  {
   "cell_type": "code",
   "execution_count": null,
   "metadata": {},
   "outputs": [],
   "source": [
    "import csv\n",
    "import os\n",
    "import random\n",
    "\n",
    "def loadData(tokenizer):\n",
    "    fileName = os.path.join(dataDir, \"data.csv\")\n",
    "    fileTestName = os.path.join(dataDir, \"data_test.csv\")\n",
    "\n",
    "    data = []\n",
    "    data_test = []\n",
    "    train_set = []\n",
    "    train_labels = []\n",
    "    test_set = []\n",
    "    test_labels = []\n",
    "\n",
    "    with open(fileName, encoding='utf-8') as csvFile:\n",
    "        csv_reader = csv.reader(csvFile, delimiter=\";\")\n",
    "        line_count = 0\n",
    "        for row in csv_reader:\n",
    "            if line_count > 0:\n",
    "                data.append(row) \n",
    "            line_count +=1\n",
    "    csvFile.close()\n",
    "\n",
    "    with open(fileTestName, encoding='utf-8') as csvFileTest:\n",
    "        csv_reader_test = csv.reader(csvFileTest, delimiter=\";\")\n",
    "        line_count = 0\n",
    "        for row in csv_reader_test:\n",
    "            if line_count > 0:\n",
    "                data_test.append(row)\n",
    "            line_count +=1\n",
    "    csvFileTest.close()\n",
    "\n",
    "    shuffled_set = random.sample(data, len(data))\n",
    "    training_set = shuffled_set[0:]\n",
    "    shuffled_set_test = random.sample(data_test, len(data_test))\n",
    "    testing_set = shuffled_set_test[0:]\n",
    "\n",
    "    for el in training_set:\n",
    "        train_set.append(el[1])\n",
    "        zeros = [0] * classes\n",
    "        zeros[int(el[0]) - 1] = 1\n",
    "        train_labels.append(zeros)\n",
    "\n",
    "    for el in testing_set:\n",
    "        test_set.append(el[1])\n",
    "        zeros = [0] * classes\n",
    "        zeros[int(el[0]) - 1] = 1\n",
    "        test_labels.append(zeros)\n",
    "\n",
    "    defineTokenizerConfig(train_set)\n",
    "\n",
    "    train_tokens = map(tokenizer.tokenize, train_set)\n",
    "    train_tokens = map(lambda tok: [\"[CLS]\"] + tok + [\"[SEP]\"], train_tokens)\n",
    "    train_token_ids = list(map(tokenizer.convert_tokens_to_ids, train_tokens))\n",
    "\n",
    "    train_token_ids = map(lambda tids: tids + [0] * (max_seq_length - len(tids)), train_token_ids)\n",
    "    train_token_ids = np.array(list(train_token_ids))\n",
    "\n",
    "    test_tokens = map(tokenizer.tokenize, test_set)\n",
    "    test_tokens = map(lambda tok: [\"[CLS]\"] + tok + [\"[SEP]\"], test_tokens)\n",
    "    test_token_ids = list(map(tokenizer.convert_tokens_to_ids, test_tokens))\n",
    "\n",
    "    test_token_ids = map(lambda tids: tids + [0] * (max_seq_length - len(tids)), test_token_ids)\n",
    "    test_token_ids = np.array(list(test_token_ids))\n",
    "\n",
    "    train_labels_final = np.array(train_labels)\n",
    "    test_labels_final = np.array(test_labels)\n",
    "\n",
    "    return train_token_ids, train_labels_final, test_token_ids, test_labels_final\n",
    "\n",
    "train_set, train_labels, test_set, test_labels = loadData(tokenizer)\n"
   ]
  },
  {
   "cell_type": "code",
   "execution_count": null,
   "metadata": {},
   "outputs": [],
   "source": []
  },
  {
   "cell_type": "code",
   "execution_count": null,
   "metadata": {},
   "outputs": [],
   "source": []
  },
  {
   "cell_type": "code",
   "execution_count": 24,
   "metadata": {
    "scrolled": true
   },
   "outputs": [],
   "source": [
    "from tensorflow import keras\n",
    "from tensorflow.keras.layers import Dense, Flatten\n",
    "\n",
    "max_seq_len = 128\n",
    "max_seq_len = 128\n",
    "\n",
    "l_input_ids      = keras.layers.Input(shape=(max_seq_len,), dtype='int32')\n",
    "l_token_type_ids = keras.layers.Input(shape=(max_seq_len,), dtype='int32')\n",
    "\n",
    "# using the default token_type/segment id 0\n",
    "output = Dense(2)(Flatten()(l_bert(l_input_ids)))                              # output: [batch_size, max_seq_len, hidden_size]\n",
    "model = keras.Model(inputs=l_input_ids, outputs=output)\n",
    "model.build(input_shape=(None, max_seq_len))\n",
    "\n",
    "# provide a custom token_type/segment id as a layer input\n",
    "# output = l_bert([l_input_ids, l_token_type_ids])          # [batch_size, max_seq_len, hidden_size]\n",
    "# model = keras.Model(inputs=[l_input_ids, l_token_type_ids], outputs=output)\n",
    "# model.build(input_shape=[(None, max_seq_len), (None, max_seq_len)])"
   ]
  },
  {
   "cell_type": "code",
   "execution_count": 25,
   "metadata": {},
   "outputs": [
    {
     "name": "stdout",
     "output_type": "stream",
     "text": [
      "Model: \"model_5\"\n",
      "_________________________________________________________________\n",
      "Layer (type)                 Output Shape              Param #   \n",
      "=================================================================\n",
      "input_11 (InputLayer)        [(None, 128)]             0         \n",
      "_________________________________________________________________\n",
      "bert (BertModelLayer)        (None, 128, 128)          4369152   \n",
      "_________________________________________________________________\n",
      "flatten (Flatten)            (None, 16384)             0         \n",
      "_________________________________________________________________\n",
      "dense_2 (Dense)              (None, 2)                 32770     \n",
      "=================================================================\n",
      "Total params: 4,401,922\n",
      "Trainable params: 4,401,922\n",
      "Non-trainable params: 0\n",
      "_________________________________________________________________\n"
     ]
    }
   ],
   "source": [
    "model.summary()"
   ]
  },
  {
   "cell_type": "code",
   "execution_count": 21,
   "metadata": {},
   "outputs": [],
   "source": [
    "do_lower_case = not (model_name.find(\"cased\") == 0 \\\n",
    "                     or model_name.find(\"multi_cased\") == 0)\n",
    "bert.bert_tokenization.validate_case_matches_checkpoint(do_lower_case\\\n",
    "                                                        , model_ckpt)\n",
    "vocab_file = os.path.join(model_dir, \"vocab.txt\")\n",
    "tokenizer = bert.bert_tokenization.FullTokenizer(vocab_file\\\n",
    "                                                 , do_lower_case)\n",
    "tokens = tokenizer.tokenize(\"Hello, BERT-World!\")\n",
    "token_ids = tokenizer.convert_tokens_to_ids(tokens)"
   ]
  },
  {
   "cell_type": "code",
   "execution_count": 9,
   "metadata": {},
   "outputs": [
    {
     "data": {
      "text/plain": [
       "(['hello', ',', 'bert', '-', 'world', '!'],\n",
       " [7592, 1010, 14324, 1011, 2088, 999])"
      ]
     },
     "execution_count": 9,
     "metadata": {},
     "output_type": "execute_result"
    }
   ],
   "source": [
    "tokens, token_ids"
   ]
  },
  {
   "cell_type": "code",
   "execution_count": 14,
   "metadata": {},
   "outputs": [
    {
     "data": {
      "text/plain": [
       "(128,)"
      ]
     },
     "execution_count": 14,
     "metadata": {},
     "output_type": "execute_result"
    }
   ],
   "source": [
    "import numpy as np\n",
    "\n",
    "np.array(token_ids + [0] * (128 - len(token_ids))).shape"
   ]
  },
  {
   "cell_type": "code",
   "execution_count": 27,
   "metadata": {},
   "outputs": [
    {
     "data": {
      "text/plain": [
       "array([[ 3.5423844 , -0.43246394]], dtype=float32)"
      ]
     },
     "execution_count": 27,
     "metadata": {},
     "output_type": "execute_result"
    }
   ],
   "source": [
    "model.predict((np.array(token_ids + \\\n",
    "                        [0] * (128 - len(token_ids))))\\\n",
    "              .reshape(1, -1))#.shape"
   ]
  },
  {
   "cell_type": "code",
   "execution_count": null,
   "metadata": {},
   "outputs": [],
   "source": []
  },
  {
   "cell_type": "code",
   "execution_count": 10,
   "metadata": {
    "scrolled": true
   },
   "outputs": [
    {
     "ename": "ValueError",
     "evalue": "Error when checking input: expected input_3 to have shape (128,) but got array with shape (1,)",
     "output_type": "error",
     "traceback": [
      "\u001b[0;31m---------------------------------------------------------------------------\u001b[0m",
      "\u001b[0;31mValueError\u001b[0m                                Traceback (most recent call last)",
      "\u001b[0;32m<ipython-input-10-24d8075b3dde>\u001b[0m in \u001b[0;36m<module>\u001b[0;34m\u001b[0m\n\u001b[0;32m----> 1\u001b[0;31m \u001b[0mmodel\u001b[0m\u001b[0;34m.\u001b[0m\u001b[0mpredict\u001b[0m\u001b[0;34m(\u001b[0m\u001b[0mtoken_ids\u001b[0m\u001b[0;34m)\u001b[0m\u001b[0;34m\u001b[0m\u001b[0;34m\u001b[0m\u001b[0m\n\u001b[0m",
      "\u001b[0;32m~/anaconda3/envs/nlp-tf2/lib/python3.6/site-packages/tensorflow_core/python/keras/engine/training.py\u001b[0m in \u001b[0;36mpredict\u001b[0;34m(self, x, batch_size, verbose, steps, callbacks, max_queue_size, workers, use_multiprocessing)\u001b[0m\n\u001b[1;32m   1011\u001b[0m         \u001b[0mmax_queue_size\u001b[0m\u001b[0;34m=\u001b[0m\u001b[0mmax_queue_size\u001b[0m\u001b[0;34m,\u001b[0m\u001b[0;34m\u001b[0m\u001b[0;34m\u001b[0m\u001b[0m\n\u001b[1;32m   1012\u001b[0m         \u001b[0mworkers\u001b[0m\u001b[0;34m=\u001b[0m\u001b[0mworkers\u001b[0m\u001b[0;34m,\u001b[0m\u001b[0;34m\u001b[0m\u001b[0;34m\u001b[0m\u001b[0m\n\u001b[0;32m-> 1013\u001b[0;31m         use_multiprocessing=use_multiprocessing)\n\u001b[0m\u001b[1;32m   1014\u001b[0m \u001b[0;34m\u001b[0m\u001b[0m\n\u001b[1;32m   1015\u001b[0m   \u001b[0;32mdef\u001b[0m \u001b[0mreset_metrics\u001b[0m\u001b[0;34m(\u001b[0m\u001b[0mself\u001b[0m\u001b[0;34m)\u001b[0m\u001b[0;34m:\u001b[0m\u001b[0;34m\u001b[0m\u001b[0;34m\u001b[0m\u001b[0m\n",
      "\u001b[0;32m~/anaconda3/envs/nlp-tf2/lib/python3.6/site-packages/tensorflow_core/python/keras/engine/training_v2.py\u001b[0m in \u001b[0;36mpredict\u001b[0;34m(self, model, x, batch_size, verbose, steps, callbacks, max_queue_size, workers, use_multiprocessing, **kwargs)\u001b[0m\n\u001b[1;32m    496\u001b[0m         \u001b[0mmodel\u001b[0m\u001b[0;34m,\u001b[0m \u001b[0mModeKeys\u001b[0m\u001b[0;34m.\u001b[0m\u001b[0mPREDICT\u001b[0m\u001b[0;34m,\u001b[0m \u001b[0mx\u001b[0m\u001b[0;34m=\u001b[0m\u001b[0mx\u001b[0m\u001b[0;34m,\u001b[0m \u001b[0mbatch_size\u001b[0m\u001b[0;34m=\u001b[0m\u001b[0mbatch_size\u001b[0m\u001b[0;34m,\u001b[0m \u001b[0mverbose\u001b[0m\u001b[0;34m=\u001b[0m\u001b[0mverbose\u001b[0m\u001b[0;34m,\u001b[0m\u001b[0;34m\u001b[0m\u001b[0;34m\u001b[0m\u001b[0m\n\u001b[1;32m    497\u001b[0m         \u001b[0msteps\u001b[0m\u001b[0;34m=\u001b[0m\u001b[0msteps\u001b[0m\u001b[0;34m,\u001b[0m \u001b[0mcallbacks\u001b[0m\u001b[0;34m=\u001b[0m\u001b[0mcallbacks\u001b[0m\u001b[0;34m,\u001b[0m \u001b[0mmax_queue_size\u001b[0m\u001b[0;34m=\u001b[0m\u001b[0mmax_queue_size\u001b[0m\u001b[0;34m,\u001b[0m\u001b[0;34m\u001b[0m\u001b[0;34m\u001b[0m\u001b[0m\n\u001b[0;32m--> 498\u001b[0;31m         workers=workers, use_multiprocessing=use_multiprocessing, **kwargs)\n\u001b[0m\u001b[1;32m    499\u001b[0m \u001b[0;34m\u001b[0m\u001b[0m\n\u001b[1;32m    500\u001b[0m \u001b[0;34m\u001b[0m\u001b[0m\n",
      "\u001b[0;32m~/anaconda3/envs/nlp-tf2/lib/python3.6/site-packages/tensorflow_core/python/keras/engine/training_v2.py\u001b[0m in \u001b[0;36m_model_iteration\u001b[0;34m(self, model, mode, x, y, batch_size, verbose, sample_weight, steps, callbacks, max_queue_size, workers, use_multiprocessing, **kwargs)\u001b[0m\n\u001b[1;32m    424\u001b[0m           \u001b[0mmax_queue_size\u001b[0m\u001b[0;34m=\u001b[0m\u001b[0mmax_queue_size\u001b[0m\u001b[0;34m,\u001b[0m\u001b[0;34m\u001b[0m\u001b[0;34m\u001b[0m\u001b[0m\n\u001b[1;32m    425\u001b[0m           \u001b[0mworkers\u001b[0m\u001b[0;34m=\u001b[0m\u001b[0mworkers\u001b[0m\u001b[0;34m,\u001b[0m\u001b[0;34m\u001b[0m\u001b[0;34m\u001b[0m\u001b[0m\n\u001b[0;32m--> 426\u001b[0;31m           use_multiprocessing=use_multiprocessing)\n\u001b[0m\u001b[1;32m    427\u001b[0m       \u001b[0mtotal_samples\u001b[0m \u001b[0;34m=\u001b[0m \u001b[0m_get_total_number_of_samples\u001b[0m\u001b[0;34m(\u001b[0m\u001b[0madapter\u001b[0m\u001b[0;34m)\u001b[0m\u001b[0;34m\u001b[0m\u001b[0;34m\u001b[0m\u001b[0m\n\u001b[1;32m    428\u001b[0m       \u001b[0muse_sample\u001b[0m \u001b[0;34m=\u001b[0m \u001b[0mtotal_samples\u001b[0m \u001b[0;32mis\u001b[0m \u001b[0;32mnot\u001b[0m \u001b[0;32mNone\u001b[0m\u001b[0;34m\u001b[0m\u001b[0;34m\u001b[0m\u001b[0m\n",
      "\u001b[0;32m~/anaconda3/envs/nlp-tf2/lib/python3.6/site-packages/tensorflow_core/python/keras/engine/training_v2.py\u001b[0m in \u001b[0;36m_process_inputs\u001b[0;34m(model, mode, x, y, batch_size, epochs, sample_weights, class_weights, shuffle, steps, distribution_strategy, max_queue_size, workers, use_multiprocessing)\u001b[0m\n\u001b[1;32m    704\u001b[0m       \u001b[0mmax_queue_size\u001b[0m\u001b[0;34m=\u001b[0m\u001b[0mmax_queue_size\u001b[0m\u001b[0;34m,\u001b[0m\u001b[0;34m\u001b[0m\u001b[0;34m\u001b[0m\u001b[0m\n\u001b[1;32m    705\u001b[0m       \u001b[0mworkers\u001b[0m\u001b[0;34m=\u001b[0m\u001b[0mworkers\u001b[0m\u001b[0;34m,\u001b[0m\u001b[0;34m\u001b[0m\u001b[0;34m\u001b[0m\u001b[0m\n\u001b[0;32m--> 706\u001b[0;31m       use_multiprocessing=use_multiprocessing)\n\u001b[0m\u001b[1;32m    707\u001b[0m \u001b[0;34m\u001b[0m\u001b[0m\n\u001b[1;32m    708\u001b[0m   \u001b[0;32mreturn\u001b[0m \u001b[0madapter\u001b[0m\u001b[0;34m\u001b[0m\u001b[0;34m\u001b[0m\u001b[0m\n",
      "\u001b[0;32m~/anaconda3/envs/nlp-tf2/lib/python3.6/site-packages/tensorflow_core/python/keras/engine/data_adapter.py\u001b[0m in \u001b[0;36m__init__\u001b[0;34m(self, x, y, sample_weights, sample_weight_modes, batch_size, shuffle, standardize_function, **kwargs)\u001b[0m\n\u001b[1;32m    655\u001b[0m     \u001b[0;32mif\u001b[0m \u001b[0mstandardize_function\u001b[0m \u001b[0;32mis\u001b[0m \u001b[0;32mnot\u001b[0m \u001b[0;32mNone\u001b[0m\u001b[0;34m:\u001b[0m\u001b[0;34m\u001b[0m\u001b[0;34m\u001b[0m\u001b[0m\n\u001b[1;32m    656\u001b[0m       x, y, sample_weights = standardize_function(\n\u001b[0;32m--> 657\u001b[0;31m           x=x, y=y, sample_weight=sample_weights)\n\u001b[0m\u001b[1;32m    658\u001b[0m \u001b[0;34m\u001b[0m\u001b[0m\n\u001b[1;32m    659\u001b[0m     self._internal_adapter = TensorLikeDataAdapter(\n",
      "\u001b[0;32m~/anaconda3/envs/nlp-tf2/lib/python3.6/site-packages/tensorflow_core/python/keras/engine/training.py\u001b[0m in \u001b[0;36m_standardize_user_data\u001b[0;34m(self, x, y, sample_weight, class_weight, batch_size, check_steps, steps_name, steps, validation_split, shuffle, extract_tensors_from_dataset)\u001b[0m\n\u001b[1;32m   2381\u001b[0m         \u001b[0mis_dataset\u001b[0m\u001b[0;34m=\u001b[0m\u001b[0mis_dataset\u001b[0m\u001b[0;34m,\u001b[0m\u001b[0;34m\u001b[0m\u001b[0;34m\u001b[0m\u001b[0m\n\u001b[1;32m   2382\u001b[0m         \u001b[0mclass_weight\u001b[0m\u001b[0;34m=\u001b[0m\u001b[0mclass_weight\u001b[0m\u001b[0;34m,\u001b[0m\u001b[0;34m\u001b[0m\u001b[0;34m\u001b[0m\u001b[0m\n\u001b[0;32m-> 2383\u001b[0;31m         batch_size=batch_size)\n\u001b[0m\u001b[1;32m   2384\u001b[0m \u001b[0;34m\u001b[0m\u001b[0m\n\u001b[1;32m   2385\u001b[0m   def _standardize_tensors(self, x, y, sample_weight, run_eagerly, dict_inputs,\n",
      "\u001b[0;32m~/anaconda3/envs/nlp-tf2/lib/python3.6/site-packages/tensorflow_core/python/keras/engine/training.py\u001b[0m in \u001b[0;36m_standardize_tensors\u001b[0;34m(self, x, y, sample_weight, run_eagerly, dict_inputs, is_dataset, class_weight, batch_size)\u001b[0m\n\u001b[1;32m   2408\u001b[0m           \u001b[0mfeed_input_shapes\u001b[0m\u001b[0;34m,\u001b[0m\u001b[0;34m\u001b[0m\u001b[0;34m\u001b[0m\u001b[0m\n\u001b[1;32m   2409\u001b[0m           \u001b[0mcheck_batch_axis\u001b[0m\u001b[0;34m=\u001b[0m\u001b[0;32mFalse\u001b[0m\u001b[0;34m,\u001b[0m  \u001b[0;31m# Don't enforce the batch size.\u001b[0m\u001b[0;34m\u001b[0m\u001b[0;34m\u001b[0m\u001b[0m\n\u001b[0;32m-> 2410\u001b[0;31m           exception_prefix='input')\n\u001b[0m\u001b[1;32m   2411\u001b[0m \u001b[0;34m\u001b[0m\u001b[0m\n\u001b[1;32m   2412\u001b[0m     \u001b[0;31m# Get typespecs for the input data and sanitize it if necessary.\u001b[0m\u001b[0;34m\u001b[0m\u001b[0;34m\u001b[0m\u001b[0;34m\u001b[0m\u001b[0m\n",
      "\u001b[0;32m~/anaconda3/envs/nlp-tf2/lib/python3.6/site-packages/tensorflow_core/python/keras/engine/training_utils.py\u001b[0m in \u001b[0;36mstandardize_input_data\u001b[0;34m(data, names, shapes, check_batch_axis, exception_prefix)\u001b[0m\n\u001b[1;32m    580\u001b[0m                              \u001b[0;34m': expected '\u001b[0m \u001b[0;34m+\u001b[0m \u001b[0mnames\u001b[0m\u001b[0;34m[\u001b[0m\u001b[0mi\u001b[0m\u001b[0;34m]\u001b[0m \u001b[0;34m+\u001b[0m \u001b[0;34m' to have shape '\u001b[0m \u001b[0;34m+\u001b[0m\u001b[0;34m\u001b[0m\u001b[0;34m\u001b[0m\u001b[0m\n\u001b[1;32m    581\u001b[0m                              \u001b[0mstr\u001b[0m\u001b[0;34m(\u001b[0m\u001b[0mshape\u001b[0m\u001b[0;34m)\u001b[0m \u001b[0;34m+\u001b[0m \u001b[0;34m' but got array with shape '\u001b[0m \u001b[0;34m+\u001b[0m\u001b[0;34m\u001b[0m\u001b[0;34m\u001b[0m\u001b[0m\n\u001b[0;32m--> 582\u001b[0;31m                              str(data_shape))\n\u001b[0m\u001b[1;32m    583\u001b[0m   \u001b[0;32mreturn\u001b[0m \u001b[0mdata\u001b[0m\u001b[0;34m\u001b[0m\u001b[0;34m\u001b[0m\u001b[0m\n\u001b[1;32m    584\u001b[0m \u001b[0;34m\u001b[0m\u001b[0m\n",
      "\u001b[0;31mValueError\u001b[0m: Error when checking input: expected input_3 to have shape (128,) but got array with shape (1,)"
     ]
    }
   ],
   "source": [
    "model.predict(token_ids)"
   ]
  },
  {
   "cell_type": "code",
   "execution_count": null,
   "metadata": {},
   "outputs": [],
   "source": []
  },
  {
   "cell_type": "code",
   "execution_count": 9,
   "metadata": {},
   "outputs": [],
   "source": [
    "l_bert.apply_adapter_freeze()"
   ]
  },
  {
   "cell_type": "code",
   "execution_count": 4,
   "metadata": {
    "scrolled": true
   },
   "outputs": [
    {
     "name": "stdout",
     "output_type": "stream",
     "text": [
      "Model: \"model\"\n",
      "_________________________________________________________________\n",
      "Layer (type)                 Output Shape              Param #   \n",
      "=================================================================\n",
      "input_1 (InputLayer)         [(None, 128)]             0         \n",
      "_________________________________________________________________\n",
      "bert (BertModelLayer)        (None, 128, 128)          4369152   \n",
      "=================================================================\n",
      "Total params: 4,369,152\n",
      "Trainable params: 4,369,152\n",
      "Non-trainable params: 0\n",
      "_________________________________________________________________\n"
     ]
    }
   ],
   "source": [
    "model.summary()"
   ]
  },
  {
   "cell_type": "code",
   "execution_count": 11,
   "metadata": {},
   "outputs": [],
   "source": [
    "from bert import tokenization"
   ]
  },
  {
   "cell_type": "code",
   "execution_count": 18,
   "metadata": {},
   "outputs": [
    {
     "data": {
      "text/plain": [
       "['ana', 'are', 'multe', 'n', 'sda']"
      ]
     },
     "execution_count": 18,
     "metadata": {},
     "output_type": "execute_result"
    }
   ],
   "source": [
    "tokenization.bert_tokenization.whitespace_tokenize(\"ana are multe n\\\n",
    "                                                   sda\")"
   ]
  },
  {
   "cell_type": "code",
   "execution_count": 19,
   "metadata": {},
   "outputs": [
    {
     "data": {
      "text/plain": [
       "<module 'bert' from '/home/stefan/anaconda3/envs/nlp-tf2/lib/python3.6/site-packages/bert/__init__.py'>"
      ]
     },
     "execution_count": 19,
     "metadata": {},
     "output_type": "execute_result"
    }
   ],
   "source": [
    "bert."
   ]
  },
  {
   "cell_type": "code",
   "execution_count": 23,
   "metadata": {},
   "outputs": [
    {
     "data": {
      "text/plain": [
       "3713081631934410656"
      ]
     },
     "execution_count": 23,
     "metadata": {},
     "output_type": "execute_result"
    }
   ],
   "source": [
    "hash((1,2))"
   ]
  },
  {
   "cell_type": "code",
   "execution_count": null,
   "metadata": {},
   "outputs": [],
   "source": []
  },
  {
   "cell_type": "code",
   "execution_count": 2,
   "metadata": {},
   "outputs": [
    {
     "name": "stdout",
     "output_type": "stream",
     "text": [
      "#reproducible keras results:\r\n",
      "# https://stackoverflow.com/questions/32419510/how-to-get-reproducible-results-in-keras\r\n",
      "# Seed value\r\n",
      "# Apparently you may use different seed values at each stage\r\n",
      "seed_value= 0\r\n",
      "\r\n",
      "# 1. Set the `PYTHONHASHSEED` environment variable at a fixed value\r\n",
      "import os\r\n",
      "os.environ['PYTHONHASHSEED']=str(seed_value)\r\n",
      "\r\n",
      "# 2. Set the `python` built-in pseudo-random generator at a fixed value\r\n",
      "import random\r\n",
      "random.seed(seed_value)\r\n",
      "\r\n",
      "# 3. Set the `numpy` pseudo-random generator at a fixed value\r\n",
      "import numpy as np\r\n",
      "np.random.seed(seed_value)\r\n",
      "\r\n",
      "# 4. Set the `tensorflow` pseudo-random generator at a fixed value\r\n",
      "import tensorflow as tf\r\n",
      "tf.random.set_seed(seed_value)\r\n",
      "# for later versions:\r\n",
      "# tf.compat.v1.set_random_seed(seed_value)\r\n",
      "\r\n",
      "# 5. Configure a new global `tensorflow` session\r\n",
      "# from keras import backend as K\r\n",
      "# session_conf = tf.ConfigProto(intra_op_parallelism_threads=1, inter_op_parallelism_threads=1)\r\n",
      "# sess = tf.Session(graph=tf.get_default_graph(), config=session_conf)\r\n",
      "# K.set_session(sess)\r\n",
      "# for later versions:\r\n",
      "session_conf = tf.compat.v1.ConfigProto(intra_op_parallelism_threads=1, inter_op_parallelism_threads=1)\r\n",
      "sess = tf.compat.v1.Session(graph=tf.compat.v1.get_default_graph(), config=session_conf)\r\n",
      "tf.compat.v1.keras.backend.set_session(sess)\r\n"
     ]
    }
   ],
   "source": [
    "!cat ../set_project_seed.py"
   ]
  },
  {
   "cell_type": "code",
   "execution_count": 3,
   "metadata": {},
   "outputs": [],
   "source": [
    "import bert"
   ]
  }
 ],
 "metadata": {
  "kernelspec": {
   "display_name": "Python [conda env:nlp-tf2]",
   "language": "python",
   "name": "conda-env-nlp-tf2-py"
  },
  "language_info": {
   "codemirror_mode": {
    "name": "ipython",
    "version": 3
   },
   "file_extension": ".py",
   "mimetype": "text/x-python",
   "name": "python",
   "nbconvert_exporter": "python",
   "pygments_lexer": "ipython3",
   "version": "3.6.9"
  }
 },
 "nbformat": 4,
 "nbformat_minor": 2
}
