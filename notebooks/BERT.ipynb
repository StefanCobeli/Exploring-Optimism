{
 "cells": [
  {
   "cell_type": "markdown",
   "metadata": {},
   "source": [
    "Source: \n",
    "\n",
    "https://medium.com/@brn.pistone/bert-fine-tuning-for-tensorflow-2-0-with-keras-api-9913fc1348f6\n",
    "\n",
    "https://gist.github.com/bp91"
   ]
  },
  {
   "cell_type": "markdown",
   "metadata": {},
   "source": [
    "# Imports"
   ]
  },
  {
   "cell_type": "code",
   "execution_count": 1,
   "metadata": {},
   "outputs": [
    {
     "name": "stderr",
     "output_type": "stream",
     "text": [
      "Using TensorFlow backend.\n"
     ]
    },
    {
     "name": "stdout",
     "output_type": "stream",
     "text": [
      "WARNING:tensorflow:From ../set_project_seed.py:33: The name tf.keras.backend.set_session is deprecated. Please use tf.compat.v1.keras.backend.set_session instead.\n",
      "\n"
     ]
    }
   ],
   "source": [
    "import sys  \n",
    "from shutil           import copyfile\n",
    "sys.path.insert(0, '../')\n",
    "# sys.path.insert(0, '../config/')\n",
    "\n",
    "from CustomTokenizer  import *\n",
    "from data_preparation import *\n",
    "from Embedder         import *\n",
    "from models           import *\n",
    "from training         import *\n",
    "from set_project_seed import *"
   ]
  },
  {
   "cell_type": "code",
   "execution_count": 10,
   "metadata": {},
   "outputs": [],
   "source": [
    "import bert\n",
    "import os\n",
    "\n",
    "\n",
    "# model_dir = \".models/uncased_L-12_H-768_A-12\"\n",
    "model_name = \"uncased_L-2_H-128_A-2\"\n",
    "model_name = \"uncased_L-4_H-128_A-2\"\n",
    "model_name = \"uncased_L-12_H-128_A-2\"\n",
    "model_dir  = f\"../../embeddings/{model_name}\"\n",
    "model_dir  = f\"../../embeddings/all_bert_models/{model_name}\"\n",
    "model_ckpt = os.path.join(model_dir, \"bert_model.ckpt\")\n",
    "\n",
    "opt_data_path = \"../../data/optimism-twitter-data/tweets_annotation.csv\"\n",
    "\n",
    "\n",
    "bert_params = bert.params_from_pretrained_ckpt(model_dir)\n",
    "l_bert      = bert.BertModelLayer.from_params(bert_params, name=\"bert\")"
   ]
  },
  {
   "cell_type": "markdown",
   "metadata": {},
   "source": [
    "# Prepare data"
   ]
  },
  {
   "cell_type": "code",
   "execution_count": 11,
   "metadata": {},
   "outputs": [],
   "source": [
    "import bert\n",
    "\n",
    "def createTokenizer(vocab_file):\n",
    "    '''\n",
    "        Return BERT tokenizer, based on provided vocabulary file.\n",
    "    '''\n",
    "\n",
    "    tokenizer = bert.bert_tokenization.FullTokenizer(vocab_file, do_lower_case=True)\n",
    "    return tokenizer\n",
    "\n",
    "\n",
    "vocab_file       = os.path.join(model_dir, \"vocab.txt\")\n",
    "custom_tokenizer = createTokenizer(vocab_file=vocab_file)"
   ]
  },
  {
   "cell_type": "code",
   "execution_count": 12,
   "metadata": {
    "scrolled": true
   },
   "outputs": [
    {
     "name": "stdout",
     "output_type": "stream",
     "text": [
      "Processing text dataset:\n",
      "Found 7,475 texts.\n",
      "\n"
     ]
    },
    {
     "data": {
      "text/plain": [
       "(\"did i just hear clive anderson say peter cooke is on the 'unreliable evidence' panel? excellent @bbcradio4\",\n",
       " 1.0,\n",
       " ['did',\n",
       "  'i',\n",
       "  'just',\n",
       "  'hear',\n",
       "  'clive',\n",
       "  'anderson',\n",
       "  'say',\n",
       "  'peter',\n",
       "  'cooke',\n",
       "  'is',\n",
       "  'on',\n",
       "  'the',\n",
       "  \"'\",\n",
       "  'unreliable',\n",
       "  'evidence',\n",
       "  \"'\",\n",
       "  'panel',\n",
       "  '?',\n",
       "  'excellent',\n",
       "  '@',\n",
       "  'bbc',\n",
       "  '##rad',\n",
       "  '##io',\n",
       "  '##4'])"
      ]
     },
     "execution_count": 12,
     "metadata": {},
     "output_type": "execute_result"
    }
   ],
   "source": []
  },
  {
   "cell_type": "code",
   "execution_count": 13,
   "metadata": {},
   "outputs": [
    {
     "name": "stdout",
     "output_type": "stream",
     "text": [
      "Processing text dataset:\n",
      "Found 7,475 texts.\n",
      "\n",
      "The longest tweet/text has 59 BERT tokens.\n"
     ]
    }
   ],
   "source": [
    "def vectorize_BERT_data(texts, gold_labels\\\n",
    "                   , custom_tokenizer\\\n",
    "                  , MAX_SEQUENCE_LENGTH=None):\n",
    "    \n",
    "    '''\n",
    "    Given a list of texts (& one of gold labels),\n",
    "    BERT tokenize them using provided tokenizer \n",
    "    \n",
    "    output: opt_vectorized_tweets, gold_labels\n",
    "    '''\n",
    "    #To Do, cut sequencees in map:\n",
    "    \n",
    "#     opt_train_tokens = list(map(custom_tokenizer.tokenize, texts))\n",
    "    opt_train_tokens = [custom_tokenizer.tokenize(t) for t in texts]\n",
    "    \n",
    "    if not(MAX_SEQUENCE_LENGTH):\n",
    "        MAX_SEQUENCE_LENGTH = max(map(lambda x: len(x), list(opt_train_tokens))) + 2\n",
    "        print(\"The longest tweet/text has %d BERT tokens.\" \\\n",
    "          %(MAX_SEQUENCE_LENGTH))\n",
    "    #else cut the longer sequences:\n",
    "    \n",
    "    #Add BERT separators:\n",
    "#     opt_train_tokens      = list(map(lambda tok: [\"[CLS]\"] + tok + [\"[SEP]\"]\\\n",
    "#                            , opt_train_tokens))\n",
    "    opt_train_tokens      = [[\"[CLS]\"] + toks + [\"[SEP]\"] for toks in opt_train_tokens]\n",
    "    \n",
    "    #Vectorzie tokens + padding:\n",
    "    opt_vectorized_tweets = [custom_tokenizer.convert_tokens_to_ids(toks) \\\n",
    "                             for toks in opt_train_tokens]\n",
    "    opt_vectorized_tweets = [t + [0] * (MAX_SEQUENCE_LENGTH - len(t))\\\n",
    "                             for t in opt_vectorized_tweets]\n",
    "    \n",
    "    \n",
    "#     opt_vectorized_tweets = list(map(custom_tokenizer.convert_tokens_to_ids\\\n",
    "#                                , opt_train_tokens))\n",
    "#     opt_vectorized_tweets = list(map(lambda t: t + [0] * \\\n",
    "#                                 (MAX_SEQUENCE_LENGTH - len(t))\\\n",
    "#                                 , opt_vectorized_tweets))\n",
    "\n",
    "    #Transform vectors in numpy arrays:\n",
    "    opt_vectorized_tweets = np.vstack([np.array(ot) for\\\n",
    "                                     ot in opt_vectorized_tweets])\n",
    "    gold_labels = np.array(gold_labels)\n",
    "\n",
    "    return opt_vectorized_tweets, gold_labels\n",
    "\n",
    "\n",
    "opt_tweets, opt_gold_labels = read_OPT_data(data_path=opt_data_path)\n",
    "\n",
    "print(opt_tweets[0], opt_gold_labels[0], custom_tokenizer.tokenize(opt_tweets[0])[:5])\n",
    "\n",
    "opt_vectorized_tweets, opt_gold_labels = vectorize_BERT_data(\\\n",
    "                                        opt_tweets, opt_gold_labels\\\n",
    "                                        , custom_tokenizer)"
   ]
  },
  {
   "cell_type": "code",
   "execution_count": 14,
   "metadata": {},
   "outputs": [
    {
     "data": {
      "text/plain": [
       "('kahit gaano pa kalupet mag rap si smugglaz at abra. . . . . . . . . . . . . . wala paring tatalo pag nag rap na si mudra.  :)',\n",
       " 34)"
      ]
     },
     "execution_count": 14,
     "metadata": {},
     "output_type": "execute_result"
    }
   ],
   "source": [
    "opt_tweets[1804], len(opt_tweets[1804].split(\" \"))"
   ]
  },
  {
   "cell_type": "markdown",
   "metadata": {},
   "source": [
    "# Create model"
   ]
  },
  {
   "cell_type": "code",
   "execution_count": 15,
   "metadata": {},
   "outputs": [],
   "source": [
    "import bert\n",
    "import os\n",
    "\n",
    "def createBertLayer(model_dir):\n",
    "#     global bert_layer\n",
    "\n",
    "    bertDir     = model_dir\n",
    "\n",
    "    bert_params = bert.params_from_pretrained_ckpt(bertDir)\n",
    "    bert_layer  = bert.BertModelLayer.from_params(bert_params, name=\"bert\")\n",
    "\n",
    "    bert_layer.apply_adapter_freeze()\n",
    "    \n",
    "    return bert_layer\n",
    "\n",
    "def loadBertCheckpoint(model_dir):\n",
    "    modelsFolder = model_dir\n",
    "    #os.path.join(modelBertDir, \"multi_cased_L-12_H-768_A-12\")\n",
    "    checkpointName = os.path.join(modelsFolder, \"bert_model.ckpt\")\n",
    "\n",
    "    bert.load_stock_weights(bert_layer, checkpointName)\n",
    "    \n",
    "bert_layer = createBertLayer(model_dir)"
   ]
  },
  {
   "cell_type": "code",
   "execution_count": 21,
   "metadata": {},
   "outputs": [
    {
     "name": "stdout",
     "output_type": "stream",
     "text": [
      "Model: \"sequential_2\"\n",
      "_________________________________________________________________\n",
      "Layer (type)                 Output Shape              Param #   \n",
      "=================================================================\n",
      "bert (BertModelLayer)        (None, 59, 128)           6351872   \n",
      "_________________________________________________________________\n",
      "flatten_2 (Flatten)          (None, 7552)              0         \n",
      "_________________________________________________________________\n",
      "dense_4 (Dense)              (None, 256)               1933568   \n",
      "_________________________________________________________________\n",
      "dropout (Dropout)            (None, 256)               0         \n",
      "_________________________________________________________________\n",
      "dense_5 (Dense)              (None, 32)                8224      \n",
      "_________________________________________________________________\n",
      "dropout_1 (Dropout)          (None, 32)                0         \n",
      "_________________________________________________________________\n",
      "dense_6 (Dense)              (None, 2)                 66        \n",
      "=================================================================\n",
      "Total params: 8,293,730\n",
      "Trainable params: 1,941,858\n",
      "Non-trainable params: 6,351,872\n",
      "_________________________________________________________________\n",
      "None\n"
     ]
    }
   ],
   "source": [
    "import tensorflow as tf\n",
    "\n",
    "def createModel(bert_layer, max_seq_length):\n",
    "#     global model\n",
    "\n",
    "    model = tf.keras.Sequential([\n",
    "        tf.keras.layers.Input(shape=(max_seq_length, ), dtype='int32', name='input_ids'),\n",
    "        bert_layer,\n",
    "        tf.keras.layers.Flatten(),\n",
    "        tf.keras.layers.Dense(256, activation=tf.nn.relu),\n",
    "        tf.keras.layers.Dropout(0.5),\n",
    "        tf.keras.layers.Dense(32, activation=tf.nn.relu),\n",
    "        tf.keras.layers.Dropout(0.5),\n",
    "        tf.keras.layers.Dense(2, activation=tf.nn.softmax)\n",
    "    ])\n",
    "\n",
    "    model.build(input_shape=(None, max_seq_length))\n",
    "\n",
    "    model.compile(loss='binary_crossentropy', optimizer=\"adamax\", metrics=['accuracy'])\n",
    "\n",
    "#     model.compile(loss='binary_crossentropy', optimizer=tf.optimizers.Adam(lr=0.00001), metrics=['accuracy'])\n",
    "\n",
    "    print(model.summary())\n",
    "    \n",
    "    return model\n",
    "\n",
    "\n",
    "opt_vectorized_tweets.shape[-1]\n",
    "bert_model = createModel(bert_layer, 59)\n"
   ]
  },
  {
   "cell_type": "code",
   "execution_count": 22,
   "metadata": {},
   "outputs": [
    {
     "data": {
      "text/plain": [
       "[59, 59, 59, 59, 59, 59, 59, 59, 59, 59]"
      ]
     },
     "execution_count": 22,
     "metadata": {},
     "output_type": "execute_result"
    }
   ],
   "source": [
    "list(map(len, opt_vectorized_tweets))[:10]"
   ]
  },
  {
   "cell_type": "markdown",
   "metadata": {},
   "source": [
    "# Training"
   ]
  },
  {
   "cell_type": "code",
   "execution_count": 24,
   "metadata": {},
   "outputs": [
    {
     "name": "stdout",
     "output_type": "stream",
     "text": [
      "Splitted data into Train: 5981; Dev: 747; Test: 747.\n",
      "\n"
     ]
    }
   ],
   "source": [
    "bin_opt_gold_labels = binarize_labels(gold_labels=opt_gold_labels)\n",
    "\n",
    "x_train, y_train, x_dev, y_dev, x_test, y_test = \\\n",
    "    train_dev_test_split(opt_vectorized_tweets\\\n",
    "                         , bin_opt_gold_labels, R_SEED=16)"
   ]
  },
  {
   "cell_type": "code",
   "execution_count": 25,
   "metadata": {},
   "outputs": [
    {
     "data": {
      "text/plain": [
       "[<bert.model.BertModelLayer at 0x7fa60d7bab00>,\n",
       " <tensorflow.python.keras.layers.core.Flatten at 0x7fa60cbddd30>,\n",
       " <tensorflow.python.keras.layers.core.Dense at 0x7fa60cbdde10>,\n",
       " <tensorflow.python.keras.layers.core.Dropout at 0x7fa60cbf7048>,\n",
       " <tensorflow.python.keras.layers.core.Dense at 0x7fa60cbf72b0>,\n",
       " <tensorflow.python.keras.layers.core.Dropout at 0x7fa60cbf74a8>,\n",
       " <tensorflow.python.keras.layers.core.Dense at 0x7fa60cbf7550>]"
      ]
     },
     "execution_count": 25,
     "metadata": {},
     "output_type": "execute_result"
    }
   ],
   "source": [
    "bert_model.layers"
   ]
  },
  {
   "cell_type": "code",
   "execution_count": 26,
   "metadata": {},
   "outputs": [
    {
     "data": {
      "text/plain": [
       "False"
      ]
     },
     "execution_count": 26,
     "metadata": {},
     "output_type": "execute_result"
    }
   ],
   "source": [
    "bert_model.layers[0].trainable = False\n",
    "bert_model.layers[0].trainable"
   ]
  },
  {
   "cell_type": "code",
   "execution_count": null,
   "metadata": {
    "scrolled": false
   },
   "outputs": [
    {
     "name": "stdout",
     "output_type": "stream",
     "text": [
      "Train on 5981 samples, validate on 747 samples\n",
      "Epoch 1/50\n",
      "5981/5981 [==============================] - 159s 27ms/sample - loss: 1.5884 - accuracy: 0.5223 - val_loss: 0.6926 - val_accuracy: 0.5408\n",
      "Epoch 2/50\n",
      "5981/5981 [==============================] - 142s 24ms/sample - loss: 0.8395 - accuracy: 0.5173 - val_loss: 0.6930 - val_accuracy: 0.5395\n",
      "Epoch 3/50\n",
      "5981/5981 [==============================] - 147s 25ms/sample - loss: 0.7508 - accuracy: 0.5344 - val_loss: 0.6923 - val_accuracy: 0.5422\n",
      "Epoch 4/50\n",
      "5981/5981 [==============================] - 146s 24ms/sample - loss: 0.7270 - accuracy: 0.5325 - val_loss: 0.6925 - val_accuracy: 0.5475\n",
      "Epoch 5/50\n",
      "5981/5981 [==============================] - 147s 25ms/sample - loss: 0.7084 - accuracy: 0.5449 - val_loss: 0.6898 - val_accuracy: 0.5395\n",
      "Epoch 6/50\n",
      "5981/5981 [==============================] - 147s 25ms/sample - loss: 0.7082 - accuracy: 0.5392 - val_loss: 0.6919 - val_accuracy: 0.5328\n",
      "Epoch 7/50\n",
      "5981/5981 [==============================] - 146s 24ms/sample - loss: 0.7036 - accuracy: 0.5429 - val_loss: 0.6919 - val_accuracy: 0.5315\n",
      "Epoch 8/50\n",
      "5981/5981 [==============================] - 145s 24ms/sample - loss: 0.7003 - accuracy: 0.5405 - val_loss: 0.6907 - val_accuracy: 0.5395\n",
      "Epoch 9/50\n",
      "5981/5981 [==============================] - 146s 24ms/sample - loss: 0.6965 - accuracy: 0.5419 - val_loss: 0.6876 - val_accuracy: 0.5596\n",
      "Epoch 10/50\n",
      "5981/5981 [==============================] - 148s 25ms/sample - loss: 0.6872 - accuracy: 0.5531 - val_loss: 0.6887 - val_accuracy: 0.5448\n",
      "Epoch 11/50\n",
      "5981/5981 [==============================] - 147s 25ms/sample - loss: 0.6888 - accuracy: 0.5593 - val_loss: 0.6925 - val_accuracy: 0.5315\n",
      "Epoch 12/50\n",
      "5981/5981 [==============================] - 150s 25ms/sample - loss: 0.6836 - accuracy: 0.5650 - val_loss: 0.6864 - val_accuracy: 0.5462\n",
      "Epoch 13/50\n",
      "5981/5981 [==============================] - 166s 28ms/sample - loss: 0.6730 - accuracy: 0.5830 - val_loss: 0.6874 - val_accuracy: 0.5582\n",
      "Epoch 14/50\n",
      "5981/5981 [==============================] - 167s 28ms/sample - loss: 0.6757 - accuracy: 0.5738 - val_loss: 0.6891 - val_accuracy: 0.5542\n",
      "Epoch 15/50\n",
      "3840/5981 [==================>...........] - ETA: 49s - loss: 0.6757 - accuracy: 0.5781"
     ]
    }
   ],
   "source": [
    "history = bert_model.fit(\n",
    "        x_train,\n",
    "        y_train,\n",
    "        epochs=50,\n",
    "#         epochs=300,\n",
    "        batch_size=256,\n",
    "        validation_data=(x_dev, y_dev),\n",
    "        verbose=1,\n",
    "#         callbacks=[cp_callback]\n",
    "    )"
   ]
  },
  {
   "cell_type": "markdown",
   "metadata": {},
   "source": [
    "# Plots"
   ]
  },
  {
   "cell_type": "code",
   "execution_count": 14,
   "metadata": {},
   "outputs": [],
   "source": [
    "import matplotlib.pyplot as plt"
   ]
  },
  {
   "cell_type": "code",
   "execution_count": 17,
   "metadata": {},
   "outputs": [
    {
     "data": {
      "image/png": "[encoded data removed]",
      "text/plain": [
       "<Figure size 432x288 with 1 Axes>"
      ]
     },
     "metadata": {
      "needs_background": "light"
     },
     "output_type": "display_data"
    }
   ],
   "source": [
    "\n",
    "plt.title(\"Accuracy improvement over training epochs\")\n",
    "# plt.plot(hist_df[\"accuracy\"])\n",
    "# plt.plot(training_errors, label=\"Training Acc\")\n",
    "# plt.plot(validation_errors, label = \"Validation Acc\" )\n",
    "plt.plot(history.history[\"val_accuracy\"], label=\"Val Acc.\")\n",
    "plt.plot(history.history[\"accuracy\"], label=\"Train Acc.\")\n",
    "plt.ylabel(\"Acc\")\n",
    "plt.xlabel(\"#Epochs\")\n",
    "plt.grid()\n",
    "plt.ylim(0.4, ymax = 1.01)\n",
    "plt.legend()\n",
    "plt.show()"
   ]
  },
  {
   "cell_type": "code",
   "execution_count": 18,
   "metadata": {},
   "outputs": [
    {
     "name": "stdout",
     "output_type": "stream",
     "text": [
      "Train on 5981 samples, validate on 747 samples\n",
      "Epoch 1/10\n",
      "5981/5981 [==============================] - 47s 8ms/sample - loss: 0.3212 - accuracy: 0.8935 - val_loss: 0.5890 - val_accuracy: 0.6760\n",
      "Epoch 2/10\n",
      "5981/5981 [==============================] - 47s 8ms/sample - loss: 0.2629 - accuracy: 0.9216 - val_loss: 0.6239 - val_accuracy: 0.6760\n",
      "Epoch 3/10\n",
      "5981/5981 [==============================] - 46s 8ms/sample - loss: 0.2144 - accuracy: 0.9388 - val_loss: 0.6172 - val_accuracy: 0.6881\n",
      "Epoch 4/10\n",
      "5981/5981 [==============================] - 47s 8ms/sample - loss: 0.1688 - accuracy: 0.9564 - val_loss: 0.6620 - val_accuracy: 0.6801\n",
      "Epoch 5/10\n",
      "5981/5981 [==============================] - 46s 8ms/sample - loss: 0.1383 - accuracy: 0.9637 - val_loss: 0.6374 - val_accuracy: 0.7095\n",
      "Epoch 6/10\n",
      "5981/5981 [==============================] - 45s 8ms/sample - loss: 0.1095 - accuracy: 0.9732 - val_loss: 0.6619 - val_accuracy: 0.7229\n",
      "Epoch 7/10\n",
      "5981/5981 [==============================] - 45s 8ms/sample - loss: 0.0843 - accuracy: 0.9798 - val_loss: 0.7098 - val_accuracy: 0.7041\n",
      "Epoch 8/10\n",
      "5981/5981 [==============================] - 45s 8ms/sample - loss: 0.0676 - accuracy: 0.9865 - val_loss: 0.7263 - val_accuracy: 0.7175\n",
      "Epoch 9/10\n",
      "5981/5981 [==============================] - 46s 8ms/sample - loss: 0.0508 - accuracy: 0.9905 - val_loss: 0.7753 - val_accuracy: 0.7189\n",
      "Epoch 10/10\n",
      "5981/5981 [==============================] - 45s 8ms/sample - loss: 0.0430 - accuracy: 0.9908 - val_loss: 0.8169 - val_accuracy: 0.7149\n"
     ]
    }
   ],
   "source": [
    "history_1 = bert_model.fit(\n",
    "        x_train,\n",
    "        y_train,\n",
    "        epochs=10,\n",
    "#         epochs=300,\n",
    "        batch_size=256,\n",
    "        validation_data=(x_dev, y_dev),\n",
    "        verbose=1,\n",
    "#         callbacks=[cp_callback]\n",
    "    )"
   ]
  },
  {
   "cell_type": "code",
   "execution_count": 20,
   "metadata": {},
   "outputs": [
    {
     "data": {
      "image/png": "[encoded data removed]",
      "text/plain": [
       "<Figure size 432x288 with 1 Axes>"
      ]
     },
     "metadata": {
      "needs_background": "light"
     },
     "output_type": "display_data"
    }
   ],
   "source": [
    "\n",
    "plt.title(\"Accuracy improvement over training epochs\")\n",
    "# plt.plot(hist_df[\"accuracy\"])\n",
    "# plt.plot(training_errors, label=\"Training Acc\")\n",
    "# plt.plot(validation_errors, label = \"Validation Acc\" )\n",
    "plt.plot(history.history[\"val_accuracy\"] + history_1.history[\"val_accuracy\"], label=\"Val Acc.\")\n",
    "plt.plot(history.history[\"accuracy\"] + history_1.history[\"accuracy\"], label=\"Train Acc.\")\n",
    "plt.ylabel(\"Acc\")\n",
    "plt.xlabel(\"#Epochs\")\n",
    "plt.grid()\n",
    "plt.ylim(0.4, ymax = 1.01)\n",
    "plt.legend()\n",
    "plt.show()"
   ]
  },
  {
   "cell_type": "code",
   "execution_count": null,
   "metadata": {},
   "outputs": [],
   "source": []
  },
  {
   "cell_type": "code",
   "execution_count": null,
   "metadata": {},
   "outputs": [],
   "source": []
  },
  {
   "cell_type": "code",
   "execution_count": null,
   "metadata": {},
   "outputs": [],
   "source": [
    "def fitModel(training_set, training_label\\\n",
    "             , testing_set, testing_label):\n",
    "    checkpointName = os.path.join(modelDir, \"bert_faq.ckpt\")\n",
    "\n",
    "    # Create a callback that saves the model's weights\n",
    "    cp_callback = tf.keras.callbacks.ModelCheckpoint(filepath=checkpointName,\n",
    "                                                     save_weights_only=True,\n",
    "                                                     verbose=1)\n",
    "\n",
    "    # callback = StopTrainingClassComplete()\n",
    "\n",
    "    history = model.fit(\n",
    "        training_set,\n",
    "        training_label,\n",
    "        epochs=300,\n",
    "        validation_data=(testing_set, testing_label),\n",
    "        verbose=1,\n",
    "        callbacks=[cp_callback]\n",
    "    )"
   ]
  },
  {
   "cell_type": "code",
   "execution_count": null,
   "metadata": {},
   "outputs": [],
   "source": []
  },
  {
   "cell_type": "code",
   "execution_count": null,
   "metadata": {},
   "outputs": [],
   "source": []
  },
  {
   "cell_type": "markdown",
   "metadata": {},
   "source": [
    "# Drafts"
   ]
  },
  {
   "cell_type": "code",
   "execution_count": null,
   "metadata": {},
   "outputs": [],
   "source": [
    "import csv\n",
    "import os\n",
    "import random\n",
    "\n",
    "def loadData(tokenizer):\n",
    "    fileName = os.path.join(dataDir, \"data.csv\")\n",
    "    fileTestName = os.path.join(dataDir, \"data_test.csv\")\n",
    "\n",
    "    data = []\n",
    "    data_test = []\n",
    "    train_set = []\n",
    "    train_labels = []\n",
    "    test_set = []\n",
    "    test_labels = []\n",
    "\n",
    "    with open(fileName, encoding='utf-8') as csvFile:\n",
    "        csv_reader = csv.reader(csvFile, delimiter=\";\")\n",
    "        line_count = 0\n",
    "        for row in csv_reader:\n",
    "            if line_count > 0:\n",
    "                data.append(row) \n",
    "            line_count +=1\n",
    "    csvFile.close()\n",
    "\n",
    "    with open(fileTestName, encoding='utf-8') as csvFileTest:\n",
    "        csv_reader_test = csv.reader(csvFileTest, delimiter=\";\")\n",
    "        line_count = 0\n",
    "        for row in csv_reader_test:\n",
    "            if line_count > 0:\n",
    "                data_test.append(row)\n",
    "            line_count +=1\n",
    "    csvFileTest.close()\n",
    "\n",
    "    shuffled_set = random.sample(data, len(data))\n",
    "    training_set = shuffled_set[0:]\n",
    "    shuffled_set_test = random.sample(data_test, len(data_test))\n",
    "    testing_set = shuffled_set_test[0:]\n",
    "\n",
    "    for el in training_set:\n",
    "        train_set.append(el[1])\n",
    "        zeros = [0] * classes\n",
    "        zeros[int(el[0]) - 1] = 1\n",
    "        train_labels.append(zeros)\n",
    "\n",
    "    for el in testing_set:\n",
    "        test_set.append(el[1])\n",
    "        zeros = [0] * classes\n",
    "        zeros[int(el[0]) - 1] = 1\n",
    "        test_labels.append(zeros)\n",
    "\n",
    "    defineTokenizerConfig(train_set)\n",
    "\n",
    "    train_tokens = map(tokenizer.tokenize, train_set)\n",
    "    train_tokens = map(lambda tok: [\"[CLS]\"] + tok + [\"[SEP]\"], train_tokens)\n",
    "    train_token_ids = list(map(tokenizer.convert_tokens_to_ids, train_tokens))\n",
    "\n",
    "    train_token_ids = map(lambda tids: tids + [0] * (max_seq_length - len(tids)), train_token_ids)\n",
    "    train_token_ids = np.array(list(train_token_ids))\n",
    "\n",
    "    test_tokens = map(tokenizer.tokenize, test_set)\n",
    "    test_tokens = map(lambda tok: [\"[CLS]\"] + tok + [\"[SEP]\"], test_tokens)\n",
    "    test_token_ids = list(map(tokenizer.convert_tokens_to_ids, test_tokens))\n",
    "\n",
    "    test_token_ids = map(lambda tids: tids + [0] * (max_seq_length - len(tids)), test_token_ids)\n",
    "    test_token_ids = np.array(list(test_token_ids))\n",
    "\n",
    "    train_labels_final = np.array(train_labels)\n",
    "    test_labels_final = np.array(test_labels)\n",
    "\n",
    "    return train_token_ids, train_labels_final, test_token_ids, test_labels_final\n",
    "\n",
    "train_set, train_labels, test_set, test_labels = loadData(tokenizer)\n"
   ]
  },
  {
   "cell_type": "code",
   "execution_count": null,
   "metadata": {},
   "outputs": [],
   "source": []
  },
  {
   "cell_type": "code",
   "execution_count": null,
   "metadata": {},
   "outputs": [],
   "source": []
  },
  {
   "cell_type": "code",
   "execution_count": 24,
   "metadata": {
    "scrolled": true
   },
   "outputs": [],
   "source": [
    "from tensorflow import keras\n",
    "from tensorflow.keras.layers import Dense, Flatten\n",
    "\n",
    "max_seq_len = 128\n",
    "max_seq_len = 128\n",
    "\n",
    "l_input_ids      = keras.layers.Input(shape=(max_seq_len,), dtype='int32')\n",
    "l_token_type_ids = keras.layers.Input(shape=(max_seq_len,), dtype='int32')\n",
    "\n",
    "# using the default token_type/segment id 0\n",
    "output = Dense(2)(Flatten()(l_bert(l_input_ids)))                              # output: [batch_size, max_seq_len, hidden_size]\n",
    "model = keras.Model(inputs=l_input_ids, outputs=output)\n",
    "model.build(input_shape=(None, max_seq_len))\n",
    "\n",
    "# provide a custom token_type/segment id as a layer input\n",
    "# output = l_bert([l_input_ids, l_token_type_ids])          # [batch_size, max_seq_len, hidden_size]\n",
    "# model = keras.Model(inputs=[l_input_ids, l_token_type_ids], outputs=output)\n",
    "# model.build(input_shape=[(None, max_seq_len), (None, max_seq_len)])"
   ]
  },
  {
   "cell_type": "code",
   "execution_count": 25,
   "metadata": {},
   "outputs": [
    {
     "name": "stdout",
     "output_type": "stream",
     "text": [
      "Model: \"model_5\"\n",
      "_________________________________________________________________\n",
      "Layer (type)                 Output Shape              Param #   \n",
      "=================================================================\n",
      "input_11 (InputLayer)        [(None, 128)]             0         \n",
      "_________________________________________________________________\n",
      "bert (BertModelLayer)        (None, 128, 128)          4369152   \n",
      "_________________________________________________________________\n",
      "flatten (Flatten)            (None, 16384)             0         \n",
      "_________________________________________________________________\n",
      "dense_2 (Dense)              (None, 2)                 32770     \n",
      "=================================================================\n",
      "Total params: 4,401,922\n",
      "Trainable params: 4,401,922\n",
      "Non-trainable params: 0\n",
      "_________________________________________________________________\n"
     ]
    }
   ],
   "source": [
    "model.summary()"
   ]
  },
  {
   "cell_type": "code",
   "execution_count": 21,
   "metadata": {},
   "outputs": [],
   "source": [
    "do_lower_case = not (model_name.find(\"cased\") == 0 \\\n",
    "                     or model_name.find(\"multi_cased\") == 0)\n",
    "bert.bert_tokenization.validate_case_matches_checkpoint(do_lower_case\\\n",
    "                                                        , model_ckpt)\n",
    "vocab_file = os.path.join(model_dir, \"vocab.txt\")\n",
    "tokenizer = bert.bert_tokenization.FullTokenizer(vocab_file\\\n",
    "                                                 , do_lower_case)\n",
    "tokens = tokenizer.tokenize(\"Hello, BERT-World!\")\n",
    "token_ids = tokenizer.convert_tokens_to_ids(tokens)"
   ]
  },
  {
   "cell_type": "code",
   "execution_count": 9,
   "metadata": {},
   "outputs": [
    {
     "data": {
      "text/plain": [
       "(['hello', ',', 'bert', '-', 'world', '!'],\n",
       " [7592, 1010, 14324, 1011, 2088, 999])"
      ]
     },
     "execution_count": 9,
     "metadata": {},
     "output_type": "execute_result"
    }
   ],
   "source": [
    "tokens, token_ids"
   ]
  },
  {
   "cell_type": "code",
   "execution_count": 14,
   "metadata": {},
   "outputs": [
    {
     "data": {
      "text/plain": [
       "(128,)"
      ]
     },
     "execution_count": 14,
     "metadata": {},
     "output_type": "execute_result"
    }
   ],
   "source": [
    "import numpy as np\n",
    "\n",
    "np.array(token_ids + [0] * (128 - len(token_ids))).shape"
   ]
  },
  {
   "cell_type": "code",
   "execution_count": 27,
   "metadata": {},
   "outputs": [
    {
     "data": {
      "text/plain": [
       "array([[ 3.5423844 , -0.43246394]], dtype=float32)"
      ]
     },
     "execution_count": 27,
     "metadata": {},
     "output_type": "execute_result"
    }
   ],
   "source": [
    "model.predict((np.array(token_ids + \\\n",
    "                        [0] * (128 - len(token_ids))))\\\n",
    "              .reshape(1, -1))#.shape"
   ]
  },
  {
   "cell_type": "code",
   "execution_count": null,
   "metadata": {},
   "outputs": [],
   "source": []
  },
  {
   "cell_type": "code",
   "execution_count": 10,
   "metadata": {
    "scrolled": true
   },
   "outputs": [
    {
     "ename": "ValueError",
     "evalue": "Error when checking input: expected input_3 to have shape (128,) but got array with shape (1,)",
     "output_type": "error",
     "traceback": [
      "\u001b[0;31m---------------------------------------------------------------------------\u001b[0m",
      "\u001b[0;31mValueError\u001b[0m                                Traceback (most recent call last)",
      "\u001b[0;32m<ipython-input-10-24d8075b3dde>\u001b[0m in \u001b[0;36m<module>\u001b[0;34m\u001b[0m\n\u001b[0;32m----> 1\u001b[0;31m \u001b[0mmodel\u001b[0m\u001b[0;34m.\u001b[0m\u001b[0mpredict\u001b[0m\u001b[0;34m(\u001b[0m\u001b[0mtoken_ids\u001b[0m\u001b[0;34m)\u001b[0m\u001b[0;34m\u001b[0m\u001b[0;34m\u001b[0m\u001b[0m\n\u001b[0m",
      "\u001b[0;32m~/anaconda3/envs/nlp-tf2/lib/python3.6/site-packages/tensorflow_core/python/keras/engine/training.py\u001b[0m in \u001b[0;36mpredict\u001b[0;34m(self, x, batch_size, verbose, steps, callbacks, max_queue_size, workers, use_multiprocessing)\u001b[0m\n\u001b[1;32m   1011\u001b[0m         \u001b[0mmax_queue_size\u001b[0m\u001b[0;34m=\u001b[0m\u001b[0mmax_queue_size\u001b[0m\u001b[0;34m,\u001b[0m\u001b[0;34m\u001b[0m\u001b[0;34m\u001b[0m\u001b[0m\n\u001b[1;32m   1012\u001b[0m         \u001b[0mworkers\u001b[0m\u001b[0;34m=\u001b[0m\u001b[0mworkers\u001b[0m\u001b[0;34m,\u001b[0m\u001b[0;34m\u001b[0m\u001b[0;34m\u001b[0m\u001b[0m\n\u001b[0;32m-> 1013\u001b[0;31m         use_multiprocessing=use_multiprocessing)\n\u001b[0m\u001b[1;32m   1014\u001b[0m \u001b[0;34m\u001b[0m\u001b[0m\n\u001b[1;32m   1015\u001b[0m   \u001b[0;32mdef\u001b[0m \u001b[0mreset_metrics\u001b[0m\u001b[0;34m(\u001b[0m\u001b[0mself\u001b[0m\u001b[0;34m)\u001b[0m\u001b[0;34m:\u001b[0m\u001b[0;34m\u001b[0m\u001b[0;34m\u001b[0m\u001b[0m\n",
      "\u001b[0;32m~/anaconda3/envs/nlp-tf2/lib/python3.6/site-packages/tensorflow_core/python/keras/engine/training_v2.py\u001b[0m in \u001b[0;36mpredict\u001b[0;34m(self, model, x, batch_size, verbose, steps, callbacks, max_queue_size, workers, use_multiprocessing, **kwargs)\u001b[0m\n\u001b[1;32m    496\u001b[0m         \u001b[0mmodel\u001b[0m\u001b[0;34m,\u001b[0m \u001b[0mModeKeys\u001b[0m\u001b[0;34m.\u001b[0m\u001b[0mPREDICT\u001b[0m\u001b[0;34m,\u001b[0m \u001b[0mx\u001b[0m\u001b[0;34m=\u001b[0m\u001b[0mx\u001b[0m\u001b[0;34m,\u001b[0m \u001b[0mbatch_size\u001b[0m\u001b[0;34m=\u001b[0m\u001b[0mbatch_size\u001b[0m\u001b[0;34m,\u001b[0m \u001b[0mverbose\u001b[0m\u001b[0;34m=\u001b[0m\u001b[0mverbose\u001b[0m\u001b[0;34m,\u001b[0m\u001b[0;34m\u001b[0m\u001b[0;34m\u001b[0m\u001b[0m\n\u001b[1;32m    497\u001b[0m         \u001b[0msteps\u001b[0m\u001b[0;34m=\u001b[0m\u001b[0msteps\u001b[0m\u001b[0;34m,\u001b[0m \u001b[0mcallbacks\u001b[0m\u001b[0;34m=\u001b[0m\u001b[0mcallbacks\u001b[0m\u001b[0;34m,\u001b[0m \u001b[0mmax_queue_size\u001b[0m\u001b[0;34m=\u001b[0m\u001b[0mmax_queue_size\u001b[0m\u001b[0;34m,\u001b[0m\u001b[0;34m\u001b[0m\u001b[0;34m\u001b[0m\u001b[0m\n\u001b[0;32m--> 498\u001b[0;31m         workers=workers, use_multiprocessing=use_multiprocessing, **kwargs)\n\u001b[0m\u001b[1;32m    499\u001b[0m \u001b[0;34m\u001b[0m\u001b[0m\n\u001b[1;32m    500\u001b[0m \u001b[0;34m\u001b[0m\u001b[0m\n",
      "\u001b[0;32m~/anaconda3/envs/nlp-tf2/lib/python3.6/site-packages/tensorflow_core/python/keras/engine/training_v2.py\u001b[0m in \u001b[0;36m_model_iteration\u001b[0;34m(self, model, mode, x, y, batch_size, verbose, sample_weight, steps, callbacks, max_queue_size, workers, use_multiprocessing, **kwargs)\u001b[0m\n\u001b[1;32m    424\u001b[0m           \u001b[0mmax_queue_size\u001b[0m\u001b[0;34m=\u001b[0m\u001b[0mmax_queue_size\u001b[0m\u001b[0;34m,\u001b[0m\u001b[0;34m\u001b[0m\u001b[0;34m\u001b[0m\u001b[0m\n\u001b[1;32m    425\u001b[0m           \u001b[0mworkers\u001b[0m\u001b[0;34m=\u001b[0m\u001b[0mworkers\u001b[0m\u001b[0;34m,\u001b[0m\u001b[0;34m\u001b[0m\u001b[0;34m\u001b[0m\u001b[0m\n\u001b[0;32m--> 426\u001b[0;31m           use_multiprocessing=use_multiprocessing)\n\u001b[0m\u001b[1;32m    427\u001b[0m       \u001b[0mtotal_samples\u001b[0m \u001b[0;34m=\u001b[0m \u001b[0m_get_total_number_of_samples\u001b[0m\u001b[0;34m(\u001b[0m\u001b[0madapter\u001b[0m\u001b[0;34m)\u001b[0m\u001b[0;34m\u001b[0m\u001b[0;34m\u001b[0m\u001b[0m\n\u001b[1;32m    428\u001b[0m       \u001b[0muse_sample\u001b[0m \u001b[0;34m=\u001b[0m \u001b[0mtotal_samples\u001b[0m \u001b[0;32mis\u001b[0m \u001b[0;32mnot\u001b[0m \u001b[0;32mNone\u001b[0m\u001b[0;34m\u001b[0m\u001b[0;34m\u001b[0m\u001b[0m\n",
      "\u001b[0;32m~/anaconda3/envs/nlp-tf2/lib/python3.6/site-packages/tensorflow_core/python/keras/engine/training_v2.py\u001b[0m in \u001b[0;36m_process_inputs\u001b[0;34m(model, mode, x, y, batch_size, epochs, sample_weights, class_weights, shuffle, steps, distribution_strategy, max_queue_size, workers, use_multiprocessing)\u001b[0m\n\u001b[1;32m    704\u001b[0m       \u001b[0mmax_queue_size\u001b[0m\u001b[0;34m=\u001b[0m\u001b[0mmax_queue_size\u001b[0m\u001b[0;34m,\u001b[0m\u001b[0;34m\u001b[0m\u001b[0;34m\u001b[0m\u001b[0m\n\u001b[1;32m    705\u001b[0m       \u001b[0mworkers\u001b[0m\u001b[0;34m=\u001b[0m\u001b[0mworkers\u001b[0m\u001b[0;34m,\u001b[0m\u001b[0;34m\u001b[0m\u001b[0;34m\u001b[0m\u001b[0m\n\u001b[0;32m--> 706\u001b[0;31m       use_multiprocessing=use_multiprocessing)\n\u001b[0m\u001b[1;32m    707\u001b[0m \u001b[0;34m\u001b[0m\u001b[0m\n\u001b[1;32m    708\u001b[0m   \u001b[0;32mreturn\u001b[0m \u001b[0madapter\u001b[0m\u001b[0;34m\u001b[0m\u001b[0;34m\u001b[0m\u001b[0m\n",
      "\u001b[0;32m~/anaconda3/envs/nlp-tf2/lib/python3.6/site-packages/tensorflow_core/python/keras/engine/data_adapter.py\u001b[0m in \u001b[0;36m__init__\u001b[0;34m(self, x, y, sample_weights, sample_weight_modes, batch_size, shuffle, standardize_function, **kwargs)\u001b[0m\n\u001b[1;32m    655\u001b[0m     \u001b[0;32mif\u001b[0m \u001b[0mstandardize_function\u001b[0m \u001b[0;32mis\u001b[0m \u001b[0;32mnot\u001b[0m \u001b[0;32mNone\u001b[0m\u001b[0;34m:\u001b[0m\u001b[0;34m\u001b[0m\u001b[0;34m\u001b[0m\u001b[0m\n\u001b[1;32m    656\u001b[0m       x, y, sample_weights = standardize_function(\n\u001b[0;32m--> 657\u001b[0;31m           x=x, y=y, sample_weight=sample_weights)\n\u001b[0m\u001b[1;32m    658\u001b[0m \u001b[0;34m\u001b[0m\u001b[0m\n\u001b[1;32m    659\u001b[0m     self._internal_adapter = TensorLikeDataAdapter(\n",
      "\u001b[0;32m~/anaconda3/envs/nlp-tf2/lib/python3.6/site-packages/tensorflow_core/python/keras/engine/training.py\u001b[0m in \u001b[0;36m_standardize_user_data\u001b[0;34m(self, x, y, sample_weight, class_weight, batch_size, check_steps, steps_name, steps, validation_split, shuffle, extract_tensors_from_dataset)\u001b[0m\n\u001b[1;32m   2381\u001b[0m         \u001b[0mis_dataset\u001b[0m\u001b[0;34m=\u001b[0m\u001b[0mis_dataset\u001b[0m\u001b[0;34m,\u001b[0m\u001b[0;34m\u001b[0m\u001b[0;34m\u001b[0m\u001b[0m\n\u001b[1;32m   2382\u001b[0m         \u001b[0mclass_weight\u001b[0m\u001b[0;34m=\u001b[0m\u001b[0mclass_weight\u001b[0m\u001b[0;34m,\u001b[0m\u001b[0;34m\u001b[0m\u001b[0;34m\u001b[0m\u001b[0m\n\u001b[0;32m-> 2383\u001b[0;31m         batch_size=batch_size)\n\u001b[0m\u001b[1;32m   2384\u001b[0m \u001b[0;34m\u001b[0m\u001b[0m\n\u001b[1;32m   2385\u001b[0m   def _standardize_tensors(self, x, y, sample_weight, run_eagerly, dict_inputs,\n",
      "\u001b[0;32m~/anaconda3/envs/nlp-tf2/lib/python3.6/site-packages/tensorflow_core/python/keras/engine/training.py\u001b[0m in \u001b[0;36m_standardize_tensors\u001b[0;34m(self, x, y, sample_weight, run_eagerly, dict_inputs, is_dataset, class_weight, batch_size)\u001b[0m\n\u001b[1;32m   2408\u001b[0m           \u001b[0mfeed_input_shapes\u001b[0m\u001b[0;34m,\u001b[0m\u001b[0;34m\u001b[0m\u001b[0;34m\u001b[0m\u001b[0m\n\u001b[1;32m   2409\u001b[0m           \u001b[0mcheck_batch_axis\u001b[0m\u001b[0;34m=\u001b[0m\u001b[0;32mFalse\u001b[0m\u001b[0;34m,\u001b[0m  \u001b[0;31m# Don't enforce the batch size.\u001b[0m\u001b[0;34m\u001b[0m\u001b[0;34m\u001b[0m\u001b[0m\n\u001b[0;32m-> 2410\u001b[0;31m           exception_prefix='input')\n\u001b[0m\u001b[1;32m   2411\u001b[0m \u001b[0;34m\u001b[0m\u001b[0m\n\u001b[1;32m   2412\u001b[0m     \u001b[0;31m# Get typespecs for the input data and sanitize it if necessary.\u001b[0m\u001b[0;34m\u001b[0m\u001b[0;34m\u001b[0m\u001b[0;34m\u001b[0m\u001b[0m\n",
      "\u001b[0;32m~/anaconda3/envs/nlp-tf2/lib/python3.6/site-packages/tensorflow_core/python/keras/engine/training_utils.py\u001b[0m in \u001b[0;36mstandardize_input_data\u001b[0;34m(data, names, shapes, check_batch_axis, exception_prefix)\u001b[0m\n\u001b[1;32m    580\u001b[0m                              \u001b[0;34m': expected '\u001b[0m \u001b[0;34m+\u001b[0m \u001b[0mnames\u001b[0m\u001b[0;34m[\u001b[0m\u001b[0mi\u001b[0m\u001b[0;34m]\u001b[0m \u001b[0;34m+\u001b[0m \u001b[0;34m' to have shape '\u001b[0m \u001b[0;34m+\u001b[0m\u001b[0;34m\u001b[0m\u001b[0;34m\u001b[0m\u001b[0m\n\u001b[1;32m    581\u001b[0m                              \u001b[0mstr\u001b[0m\u001b[0;34m(\u001b[0m\u001b[0mshape\u001b[0m\u001b[0;34m)\u001b[0m \u001b[0;34m+\u001b[0m \u001b[0;34m' but got array with shape '\u001b[0m \u001b[0;34m+\u001b[0m\u001b[0;34m\u001b[0m\u001b[0;34m\u001b[0m\u001b[0m\n\u001b[0;32m--> 582\u001b[0;31m                              str(data_shape))\n\u001b[0m\u001b[1;32m    583\u001b[0m   \u001b[0;32mreturn\u001b[0m \u001b[0mdata\u001b[0m\u001b[0;34m\u001b[0m\u001b[0;34m\u001b[0m\u001b[0m\n\u001b[1;32m    584\u001b[0m \u001b[0;34m\u001b[0m\u001b[0m\n",
      "\u001b[0;31mValueError\u001b[0m: Error when checking input: expected input_3 to have shape (128,) but got array with shape (1,)"
     ]
    }
   ],
   "source": [
    "model.predict(token_ids)"
   ]
  },
  {
   "cell_type": "code",
   "execution_count": null,
   "metadata": {},
   "outputs": [],
   "source": []
  },
  {
   "cell_type": "code",
   "execution_count": 9,
   "metadata": {},
   "outputs": [],
   "source": [
    "l_bert.apply_adapter_freeze()"
   ]
  },
  {
   "cell_type": "code",
   "execution_count": 4,
   "metadata": {
    "scrolled": true
   },
   "outputs": [
    {
     "name": "stdout",
     "output_type": "stream",
     "text": [
      "Model: \"model\"\n",
      "_________________________________________________________________\n",
      "Layer (type)                 Output Shape              Param #   \n",
      "=================================================================\n",
      "input_1 (InputLayer)         [(None, 128)]             0         \n",
      "_________________________________________________________________\n",
      "bert (BertModelLayer)        (None, 128, 128)          4369152   \n",
      "=================================================================\n",
      "Total params: 4,369,152\n",
      "Trainable params: 4,369,152\n",
      "Non-trainable params: 0\n",
      "_________________________________________________________________\n"
     ]
    }
   ],
   "source": [
    "model.summary()"
   ]
  },
  {
   "cell_type": "code",
   "execution_count": 11,
   "metadata": {},
   "outputs": [],
   "source": [
    "from bert import tokenization"
   ]
  },
  {
   "cell_type": "code",
   "execution_count": 18,
   "metadata": {},
   "outputs": [
    {
     "data": {
      "text/plain": [
       "['ana', 'are', 'multe', 'n', 'sda']"
      ]
     },
     "execution_count": 18,
     "metadata": {},
     "output_type": "execute_result"
    }
   ],
   "source": [
    "tokenization.bert_tokenization.whitespace_tokenize(\"ana are multe n\\\n",
    "                                                   sda\")"
   ]
  },
  {
   "cell_type": "code",
   "execution_count": 19,
   "metadata": {},
   "outputs": [
    {
     "data": {
      "text/plain": [
       "<module 'bert' from '/home/stefan/anaconda3/envs/nlp-tf2/lib/python3.6/site-packages/bert/__init__.py'>"
      ]
     },
     "execution_count": 19,
     "metadata": {},
     "output_type": "execute_result"
    }
   ],
   "source": [
    "bert."
   ]
  },
  {
   "cell_type": "code",
   "execution_count": 23,
   "metadata": {},
   "outputs": [
    {
     "data": {
      "text/plain": [
       "3713081631934410656"
      ]
     },
     "execution_count": 23,
     "metadata": {},
     "output_type": "execute_result"
    }
   ],
   "source": [
    "hash((1,2))"
   ]
  },
  {
   "cell_type": "code",
   "execution_count": null,
   "metadata": {},
   "outputs": [],
   "source": []
  },
  {
   "cell_type": "code",
   "execution_count": 2,
   "metadata": {},
   "outputs": [
    {
     "name": "stdout",
     "output_type": "stream",
     "text": [
      "#reproducible keras results:\r\n",
      "# https://stackoverflow.com/questions/32419510/how-to-get-reproducible-results-in-keras\r\n",
      "# Seed value\r\n",
      "# Apparently you may use different seed values at each stage\r\n",
      "seed_value= 0\r\n",
      "\r\n",
      "# 1. Set the `PYTHONHASHSEED` environment variable at a fixed value\r\n",
      "import os\r\n",
      "os.environ['PYTHONHASHSEED']=str(seed_value)\r\n",
      "\r\n",
      "# 2. Set the `python` built-in pseudo-random generator at a fixed value\r\n",
      "import random\r\n",
      "random.seed(seed_value)\r\n",
      "\r\n",
      "# 3. Set the `numpy` pseudo-random generator at a fixed value\r\n",
      "import numpy as np\r\n",
      "np.random.seed(seed_value)\r\n",
      "\r\n",
      "# 4. Set the `tensorflow` pseudo-random generator at a fixed value\r\n",
      "import tensorflow as tf\r\n",
      "tf.random.set_seed(seed_value)\r\n",
      "# for later versions:\r\n",
      "# tf.compat.v1.set_random_seed(seed_value)\r\n",
      "\r\n",
      "# 5. Configure a new global `tensorflow` session\r\n",
      "# from keras import backend as K\r\n",
      "# session_conf = tf.ConfigProto(intra_op_parallelism_threads=1, inter_op_parallelism_threads=1)\r\n",
      "# sess = tf.Session(graph=tf.get_default_graph(), config=session_conf)\r\n",
      "# K.set_session(sess)\r\n",
      "# for later versions:\r\n",
      "session_conf = tf.compat.v1.ConfigProto(intra_op_parallelism_threads=1, inter_op_parallelism_threads=1)\r\n",
      "sess = tf.compat.v1.Session(graph=tf.compat.v1.get_default_graph(), config=session_conf)\r\n",
      "tf.compat.v1.keras.backend.set_session(sess)\r\n"
     ]
    }
   ],
   "source": [
    "!cat ../set_project_seed.py"
   ]
  },
  {
   "cell_type": "code",
   "execution_count": 3,
   "metadata": {},
   "outputs": [],
   "source": [
    "import bert"
   ]
  }
 ],
 "metadata": {
  "kernelspec": {
   "display_name": "Python [conda env:nlp-tf2]",
   "language": "python",
   "name": "conda-env-nlp-tf2-py"
  },
  "language_info": {
   "codemirror_mode": {
    "name": "ipython",
    "version": 3
   },
   "file_extension": ".py",
   "mimetype": "text/x-python",
   "name": "python",
   "nbconvert_exporter": "python",
   "pygments_lexer": "ipython3",
   "version": "3.6.9"
  }
 },
 "nbformat": 4,
 "nbformat_minor": 2
}
